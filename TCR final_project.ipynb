{
 "cells": [
  {
   "cell_type": "code",
   "execution_count": null,
   "id": "37810251",
   "metadata": {},
   "outputs": [],
   "source": []
  },
  {
   "cell_type": "markdown",
   "id": "2cf152f9",
   "metadata": {},
   "source": [
    "# Name - Abhishek Raj \n",
    "Certificate Code : TCRIB3R150  \n",
    "Data Science and Machine Learning final project  \n",
    "Internship duration : April 2022 - June 2022"
   ]
  },
  {
   "cell_type": "markdown",
   "id": "c49ff235",
   "metadata": {},
   "source": [
    "# Assignment\n",
    "The data is related to direct marketing campaigns of a Portuguese banking institution. The marketing\n",
    "campaigns were based on phone calls. Often, more than one contact to the same client was required, in\n",
    "order to assess if the product (bank term deposit) would be ('yes') or not ('no') subscribed (Col -21)."
   ]
  },
  {
   "cell_type": "code",
   "execution_count": 28,
   "id": "2df3275b",
   "metadata": {},
   "outputs": [],
   "source": [
    "import numpy as np\n",
    "import matplotlib.pyplot as plt\n",
    "import seaborn as sns\n",
    "sns.set(style='darkgrid')\n",
    "import pandas as pd"
   ]
  },
  {
   "cell_type": "code",
   "execution_count": 29,
   "id": "77236b37",
   "metadata": {},
   "outputs": [],
   "source": [
    "df=pd.read_csv(r\"C:\\Users\\abhir\\Downloads\\bank-full.csv\" , sep=\";\", skipinitialspace=True)     #reading csv file and arranging the file"
   ]
  },
  {
   "cell_type": "code",
   "execution_count": 50,
   "id": "0ba6e083",
   "metadata": {
    "scrolled": true
   },
   "outputs": [
    {
     "data": {
      "text/html": [
       "<div>\n",
       "<style scoped>\n",
       "    .dataframe tbody tr th:only-of-type {\n",
       "        vertical-align: middle;\n",
       "    }\n",
       "\n",
       "    .dataframe tbody tr th {\n",
       "        vertical-align: top;\n",
       "    }\n",
       "\n",
       "    .dataframe thead th {\n",
       "        text-align: right;\n",
       "    }\n",
       "</style>\n",
       "<table border=\"1\" class=\"dataframe\">\n",
       "  <thead>\n",
       "    <tr style=\"text-align: right;\">\n",
       "      <th></th>\n",
       "      <th>age</th>\n",
       "      <th>job</th>\n",
       "      <th>marital</th>\n",
       "      <th>education</th>\n",
       "      <th>default</th>\n",
       "      <th>balance</th>\n",
       "      <th>housing</th>\n",
       "      <th>loan</th>\n",
       "      <th>contact</th>\n",
       "      <th>day</th>\n",
       "      <th>month</th>\n",
       "      <th>duration</th>\n",
       "      <th>campaign</th>\n",
       "      <th>pdays</th>\n",
       "      <th>previous</th>\n",
       "      <th>poutcome</th>\n",
       "      <th>y</th>\n",
       "    </tr>\n",
       "  </thead>\n",
       "  <tbody>\n",
       "    <tr>\n",
       "      <th>0</th>\n",
       "      <td>58</td>\n",
       "      <td>management</td>\n",
       "      <td>married</td>\n",
       "      <td>tertiary</td>\n",
       "      <td>no</td>\n",
       "      <td>2143</td>\n",
       "      <td>yes</td>\n",
       "      <td>no</td>\n",
       "      <td>unknown</td>\n",
       "      <td>5</td>\n",
       "      <td>may</td>\n",
       "      <td>261</td>\n",
       "      <td>1</td>\n",
       "      <td>-1</td>\n",
       "      <td>0</td>\n",
       "      <td>unknown</td>\n",
       "      <td>no</td>\n",
       "    </tr>\n",
       "    <tr>\n",
       "      <th>1</th>\n",
       "      <td>44</td>\n",
       "      <td>technician</td>\n",
       "      <td>single</td>\n",
       "      <td>secondary</td>\n",
       "      <td>no</td>\n",
       "      <td>29</td>\n",
       "      <td>yes</td>\n",
       "      <td>no</td>\n",
       "      <td>unknown</td>\n",
       "      <td>5</td>\n",
       "      <td>may</td>\n",
       "      <td>151</td>\n",
       "      <td>1</td>\n",
       "      <td>-1</td>\n",
       "      <td>0</td>\n",
       "      <td>unknown</td>\n",
       "      <td>no</td>\n",
       "    </tr>\n",
       "    <tr>\n",
       "      <th>2</th>\n",
       "      <td>33</td>\n",
       "      <td>entrepreneur</td>\n",
       "      <td>married</td>\n",
       "      <td>secondary</td>\n",
       "      <td>no</td>\n",
       "      <td>2</td>\n",
       "      <td>yes</td>\n",
       "      <td>yes</td>\n",
       "      <td>unknown</td>\n",
       "      <td>5</td>\n",
       "      <td>may</td>\n",
       "      <td>76</td>\n",
       "      <td>1</td>\n",
       "      <td>-1</td>\n",
       "      <td>0</td>\n",
       "      <td>unknown</td>\n",
       "      <td>no</td>\n",
       "    </tr>\n",
       "    <tr>\n",
       "      <th>3</th>\n",
       "      <td>47</td>\n",
       "      <td>blue-collar</td>\n",
       "      <td>married</td>\n",
       "      <td>unknown</td>\n",
       "      <td>no</td>\n",
       "      <td>1506</td>\n",
       "      <td>yes</td>\n",
       "      <td>no</td>\n",
       "      <td>unknown</td>\n",
       "      <td>5</td>\n",
       "      <td>may</td>\n",
       "      <td>92</td>\n",
       "      <td>1</td>\n",
       "      <td>-1</td>\n",
       "      <td>0</td>\n",
       "      <td>unknown</td>\n",
       "      <td>no</td>\n",
       "    </tr>\n",
       "    <tr>\n",
       "      <th>4</th>\n",
       "      <td>33</td>\n",
       "      <td>unknown</td>\n",
       "      <td>single</td>\n",
       "      <td>unknown</td>\n",
       "      <td>no</td>\n",
       "      <td>1</td>\n",
       "      <td>no</td>\n",
       "      <td>no</td>\n",
       "      <td>unknown</td>\n",
       "      <td>5</td>\n",
       "      <td>may</td>\n",
       "      <td>198</td>\n",
       "      <td>1</td>\n",
       "      <td>-1</td>\n",
       "      <td>0</td>\n",
       "      <td>unknown</td>\n",
       "      <td>no</td>\n",
       "    </tr>\n",
       "    <tr>\n",
       "      <th>...</th>\n",
       "      <td>...</td>\n",
       "      <td>...</td>\n",
       "      <td>...</td>\n",
       "      <td>...</td>\n",
       "      <td>...</td>\n",
       "      <td>...</td>\n",
       "      <td>...</td>\n",
       "      <td>...</td>\n",
       "      <td>...</td>\n",
       "      <td>...</td>\n",
       "      <td>...</td>\n",
       "      <td>...</td>\n",
       "      <td>...</td>\n",
       "      <td>...</td>\n",
       "      <td>...</td>\n",
       "      <td>...</td>\n",
       "      <td>...</td>\n",
       "    </tr>\n",
       "    <tr>\n",
       "      <th>45206</th>\n",
       "      <td>51</td>\n",
       "      <td>technician</td>\n",
       "      <td>married</td>\n",
       "      <td>tertiary</td>\n",
       "      <td>no</td>\n",
       "      <td>825</td>\n",
       "      <td>no</td>\n",
       "      <td>no</td>\n",
       "      <td>cellular</td>\n",
       "      <td>17</td>\n",
       "      <td>nov</td>\n",
       "      <td>977</td>\n",
       "      <td>3</td>\n",
       "      <td>-1</td>\n",
       "      <td>0</td>\n",
       "      <td>unknown</td>\n",
       "      <td>yes</td>\n",
       "    </tr>\n",
       "    <tr>\n",
       "      <th>45207</th>\n",
       "      <td>71</td>\n",
       "      <td>retired</td>\n",
       "      <td>divorced</td>\n",
       "      <td>primary</td>\n",
       "      <td>no</td>\n",
       "      <td>1729</td>\n",
       "      <td>no</td>\n",
       "      <td>no</td>\n",
       "      <td>cellular</td>\n",
       "      <td>17</td>\n",
       "      <td>nov</td>\n",
       "      <td>456</td>\n",
       "      <td>2</td>\n",
       "      <td>-1</td>\n",
       "      <td>0</td>\n",
       "      <td>unknown</td>\n",
       "      <td>yes</td>\n",
       "    </tr>\n",
       "    <tr>\n",
       "      <th>45208</th>\n",
       "      <td>72</td>\n",
       "      <td>retired</td>\n",
       "      <td>married</td>\n",
       "      <td>secondary</td>\n",
       "      <td>no</td>\n",
       "      <td>5715</td>\n",
       "      <td>no</td>\n",
       "      <td>no</td>\n",
       "      <td>cellular</td>\n",
       "      <td>17</td>\n",
       "      <td>nov</td>\n",
       "      <td>1127</td>\n",
       "      <td>5</td>\n",
       "      <td>184</td>\n",
       "      <td>3</td>\n",
       "      <td>success</td>\n",
       "      <td>yes</td>\n",
       "    </tr>\n",
       "    <tr>\n",
       "      <th>45209</th>\n",
       "      <td>57</td>\n",
       "      <td>blue-collar</td>\n",
       "      <td>married</td>\n",
       "      <td>secondary</td>\n",
       "      <td>no</td>\n",
       "      <td>668</td>\n",
       "      <td>no</td>\n",
       "      <td>no</td>\n",
       "      <td>telephone</td>\n",
       "      <td>17</td>\n",
       "      <td>nov</td>\n",
       "      <td>508</td>\n",
       "      <td>4</td>\n",
       "      <td>-1</td>\n",
       "      <td>0</td>\n",
       "      <td>unknown</td>\n",
       "      <td>no</td>\n",
       "    </tr>\n",
       "    <tr>\n",
       "      <th>45210</th>\n",
       "      <td>37</td>\n",
       "      <td>entrepreneur</td>\n",
       "      <td>married</td>\n",
       "      <td>secondary</td>\n",
       "      <td>no</td>\n",
       "      <td>2971</td>\n",
       "      <td>no</td>\n",
       "      <td>no</td>\n",
       "      <td>cellular</td>\n",
       "      <td>17</td>\n",
       "      <td>nov</td>\n",
       "      <td>361</td>\n",
       "      <td>2</td>\n",
       "      <td>188</td>\n",
       "      <td>11</td>\n",
       "      <td>other</td>\n",
       "      <td>no</td>\n",
       "    </tr>\n",
       "  </tbody>\n",
       "</table>\n",
       "<p>45211 rows × 17 columns</p>\n",
       "</div>"
      ],
      "text/plain": [
       "       age           job   marital  education default  balance housing loan  \\\n",
       "0       58    management   married   tertiary      no     2143     yes   no   \n",
       "1       44    technician    single  secondary      no       29     yes   no   \n",
       "2       33  entrepreneur   married  secondary      no        2     yes  yes   \n",
       "3       47   blue-collar   married    unknown      no     1506     yes   no   \n",
       "4       33       unknown    single    unknown      no        1      no   no   \n",
       "...    ...           ...       ...        ...     ...      ...     ...  ...   \n",
       "45206   51    technician   married   tertiary      no      825      no   no   \n",
       "45207   71       retired  divorced    primary      no     1729      no   no   \n",
       "45208   72       retired   married  secondary      no     5715      no   no   \n",
       "45209   57   blue-collar   married  secondary      no      668      no   no   \n",
       "45210   37  entrepreneur   married  secondary      no     2971      no   no   \n",
       "\n",
       "         contact  day month  duration  campaign  pdays  previous poutcome    y  \n",
       "0        unknown    5   may       261         1     -1         0  unknown   no  \n",
       "1        unknown    5   may       151         1     -1         0  unknown   no  \n",
       "2        unknown    5   may        76         1     -1         0  unknown   no  \n",
       "3        unknown    5   may        92         1     -1         0  unknown   no  \n",
       "4        unknown    5   may       198         1     -1         0  unknown   no  \n",
       "...          ...  ...   ...       ...       ...    ...       ...      ...  ...  \n",
       "45206   cellular   17   nov       977         3     -1         0  unknown  yes  \n",
       "45207   cellular   17   nov       456         2     -1         0  unknown  yes  \n",
       "45208   cellular   17   nov      1127         5    184         3  success  yes  \n",
       "45209  telephone   17   nov       508         4     -1         0  unknown   no  \n",
       "45210   cellular   17   nov       361         2    188        11    other   no  \n",
       "\n",
       "[45211 rows x 17 columns]"
      ]
     },
     "execution_count": 50,
     "metadata": {},
     "output_type": "execute_result"
    }
   ],
   "source": [
    "df    #viewing the csv file"
   ]
  },
  {
   "cell_type": "code",
   "execution_count": 51,
   "id": "9dad179b",
   "metadata": {},
   "outputs": [
    {
     "data": {
      "text/plain": [
       "age          0\n",
       "job          0\n",
       "marital      0\n",
       "education    0\n",
       "default      0\n",
       "balance      0\n",
       "housing      0\n",
       "loan         0\n",
       "contact      0\n",
       "day          0\n",
       "month        0\n",
       "duration     0\n",
       "campaign     0\n",
       "pdays        0\n",
       "previous     0\n",
       "poutcome     0\n",
       "y            0\n",
       "dtype: int64"
      ]
     },
     "execution_count": 51,
     "metadata": {},
     "output_type": "execute_result"
    }
   ],
   "source": [
    "df.isnull().sum()      #checking null values"
   ]
  },
  {
   "cell_type": "code",
   "execution_count": 52,
   "id": "10b4971f",
   "metadata": {},
   "outputs": [
    {
     "name": "stdout",
     "output_type": "stream",
     "text": [
      "<class 'pandas.core.frame.DataFrame'>\n",
      "RangeIndex: 45211 entries, 0 to 45210\n",
      "Data columns (total 17 columns):\n",
      " #   Column     Non-Null Count  Dtype \n",
      "---  ------     --------------  ----- \n",
      " 0   age        45211 non-null  int64 \n",
      " 1   job        45211 non-null  object\n",
      " 2   marital    45211 non-null  object\n",
      " 3   education  45211 non-null  object\n",
      " 4   default    45211 non-null  object\n",
      " 5   balance    45211 non-null  int64 \n",
      " 6   housing    45211 non-null  object\n",
      " 7   loan       45211 non-null  object\n",
      " 8   contact    45211 non-null  object\n",
      " 9   day        45211 non-null  int64 \n",
      " 10  month      45211 non-null  object\n",
      " 11  duration   45211 non-null  int64 \n",
      " 12  campaign   45211 non-null  int64 \n",
      " 13  pdays      45211 non-null  int64 \n",
      " 14  previous   45211 non-null  int64 \n",
      " 15  poutcome   45211 non-null  object\n",
      " 16  y          45211 non-null  object\n",
      "dtypes: int64(7), object(10)\n",
      "memory usage: 5.9+ MB\n"
     ]
    }
   ],
   "source": [
    "df.info()   #information about the data"
   ]
  },
  {
   "cell_type": "code",
   "execution_count": 53,
   "id": "cb4be7ec",
   "metadata": {},
   "outputs": [
    {
     "data": {
      "text/plain": [
       "no     39922\n",
       "yes     5289\n",
       "Name: y, dtype: int64"
      ]
     },
     "execution_count": 53,
     "metadata": {},
     "output_type": "execute_result"
    }
   ],
   "source": [
    "df['y'].value_counts()"
   ]
  },
  {
   "cell_type": "code",
   "execution_count": 54,
   "id": "bcb132e5",
   "metadata": {},
   "outputs": [
    {
     "data": {
      "text/html": [
       "<div>\n",
       "<style scoped>\n",
       "    .dataframe tbody tr th:only-of-type {\n",
       "        vertical-align: middle;\n",
       "    }\n",
       "\n",
       "    .dataframe tbody tr th {\n",
       "        vertical-align: top;\n",
       "    }\n",
       "\n",
       "    .dataframe thead th {\n",
       "        text-align: right;\n",
       "    }\n",
       "</style>\n",
       "<table border=\"1\" class=\"dataframe\">\n",
       "  <thead>\n",
       "    <tr style=\"text-align: right;\">\n",
       "      <th></th>\n",
       "      <th>age</th>\n",
       "      <th>job</th>\n",
       "      <th>marital</th>\n",
       "      <th>education</th>\n",
       "      <th>default</th>\n",
       "      <th>balance</th>\n",
       "      <th>housing</th>\n",
       "      <th>loan</th>\n",
       "      <th>contact</th>\n",
       "      <th>day</th>\n",
       "      <th>month</th>\n",
       "      <th>duration</th>\n",
       "      <th>campaign</th>\n",
       "      <th>pdays</th>\n",
       "      <th>previous</th>\n",
       "      <th>poutcome</th>\n",
       "      <th>y</th>\n",
       "    </tr>\n",
       "  </thead>\n",
       "  <tbody>\n",
       "    <tr>\n",
       "      <th>0</th>\n",
       "      <td>58</td>\n",
       "      <td>management</td>\n",
       "      <td>married</td>\n",
       "      <td>tertiary</td>\n",
       "      <td>no</td>\n",
       "      <td>2143</td>\n",
       "      <td>yes</td>\n",
       "      <td>no</td>\n",
       "      <td>unknown</td>\n",
       "      <td>5</td>\n",
       "      <td>may</td>\n",
       "      <td>261</td>\n",
       "      <td>1</td>\n",
       "      <td>-1</td>\n",
       "      <td>0</td>\n",
       "      <td>unknown</td>\n",
       "      <td>no</td>\n",
       "    </tr>\n",
       "    <tr>\n",
       "      <th>1</th>\n",
       "      <td>44</td>\n",
       "      <td>technician</td>\n",
       "      <td>single</td>\n",
       "      <td>secondary</td>\n",
       "      <td>no</td>\n",
       "      <td>29</td>\n",
       "      <td>yes</td>\n",
       "      <td>no</td>\n",
       "      <td>unknown</td>\n",
       "      <td>5</td>\n",
       "      <td>may</td>\n",
       "      <td>151</td>\n",
       "      <td>1</td>\n",
       "      <td>-1</td>\n",
       "      <td>0</td>\n",
       "      <td>unknown</td>\n",
       "      <td>no</td>\n",
       "    </tr>\n",
       "    <tr>\n",
       "      <th>2</th>\n",
       "      <td>33</td>\n",
       "      <td>entrepreneur</td>\n",
       "      <td>married</td>\n",
       "      <td>secondary</td>\n",
       "      <td>no</td>\n",
       "      <td>2</td>\n",
       "      <td>yes</td>\n",
       "      <td>yes</td>\n",
       "      <td>unknown</td>\n",
       "      <td>5</td>\n",
       "      <td>may</td>\n",
       "      <td>76</td>\n",
       "      <td>1</td>\n",
       "      <td>-1</td>\n",
       "      <td>0</td>\n",
       "      <td>unknown</td>\n",
       "      <td>no</td>\n",
       "    </tr>\n",
       "    <tr>\n",
       "      <th>3</th>\n",
       "      <td>47</td>\n",
       "      <td>blue-collar</td>\n",
       "      <td>married</td>\n",
       "      <td>unknown</td>\n",
       "      <td>no</td>\n",
       "      <td>1506</td>\n",
       "      <td>yes</td>\n",
       "      <td>no</td>\n",
       "      <td>unknown</td>\n",
       "      <td>5</td>\n",
       "      <td>may</td>\n",
       "      <td>92</td>\n",
       "      <td>1</td>\n",
       "      <td>-1</td>\n",
       "      <td>0</td>\n",
       "      <td>unknown</td>\n",
       "      <td>no</td>\n",
       "    </tr>\n",
       "    <tr>\n",
       "      <th>4</th>\n",
       "      <td>33</td>\n",
       "      <td>unknown</td>\n",
       "      <td>single</td>\n",
       "      <td>unknown</td>\n",
       "      <td>no</td>\n",
       "      <td>1</td>\n",
       "      <td>no</td>\n",
       "      <td>no</td>\n",
       "      <td>unknown</td>\n",
       "      <td>5</td>\n",
       "      <td>may</td>\n",
       "      <td>198</td>\n",
       "      <td>1</td>\n",
       "      <td>-1</td>\n",
       "      <td>0</td>\n",
       "      <td>unknown</td>\n",
       "      <td>no</td>\n",
       "    </tr>\n",
       "    <tr>\n",
       "      <th>...</th>\n",
       "      <td>...</td>\n",
       "      <td>...</td>\n",
       "      <td>...</td>\n",
       "      <td>...</td>\n",
       "      <td>...</td>\n",
       "      <td>...</td>\n",
       "      <td>...</td>\n",
       "      <td>...</td>\n",
       "      <td>...</td>\n",
       "      <td>...</td>\n",
       "      <td>...</td>\n",
       "      <td>...</td>\n",
       "      <td>...</td>\n",
       "      <td>...</td>\n",
       "      <td>...</td>\n",
       "      <td>...</td>\n",
       "      <td>...</td>\n",
       "    </tr>\n",
       "    <tr>\n",
       "      <th>45206</th>\n",
       "      <td>51</td>\n",
       "      <td>technician</td>\n",
       "      <td>married</td>\n",
       "      <td>tertiary</td>\n",
       "      <td>no</td>\n",
       "      <td>825</td>\n",
       "      <td>no</td>\n",
       "      <td>no</td>\n",
       "      <td>cellular</td>\n",
       "      <td>17</td>\n",
       "      <td>nov</td>\n",
       "      <td>977</td>\n",
       "      <td>3</td>\n",
       "      <td>-1</td>\n",
       "      <td>0</td>\n",
       "      <td>unknown</td>\n",
       "      <td>yes</td>\n",
       "    </tr>\n",
       "    <tr>\n",
       "      <th>45207</th>\n",
       "      <td>71</td>\n",
       "      <td>retired</td>\n",
       "      <td>divorced</td>\n",
       "      <td>primary</td>\n",
       "      <td>no</td>\n",
       "      <td>1729</td>\n",
       "      <td>no</td>\n",
       "      <td>no</td>\n",
       "      <td>cellular</td>\n",
       "      <td>17</td>\n",
       "      <td>nov</td>\n",
       "      <td>456</td>\n",
       "      <td>2</td>\n",
       "      <td>-1</td>\n",
       "      <td>0</td>\n",
       "      <td>unknown</td>\n",
       "      <td>yes</td>\n",
       "    </tr>\n",
       "    <tr>\n",
       "      <th>45208</th>\n",
       "      <td>72</td>\n",
       "      <td>retired</td>\n",
       "      <td>married</td>\n",
       "      <td>secondary</td>\n",
       "      <td>no</td>\n",
       "      <td>5715</td>\n",
       "      <td>no</td>\n",
       "      <td>no</td>\n",
       "      <td>cellular</td>\n",
       "      <td>17</td>\n",
       "      <td>nov</td>\n",
       "      <td>1127</td>\n",
       "      <td>5</td>\n",
       "      <td>184</td>\n",
       "      <td>3</td>\n",
       "      <td>success</td>\n",
       "      <td>yes</td>\n",
       "    </tr>\n",
       "    <tr>\n",
       "      <th>45209</th>\n",
       "      <td>57</td>\n",
       "      <td>blue-collar</td>\n",
       "      <td>married</td>\n",
       "      <td>secondary</td>\n",
       "      <td>no</td>\n",
       "      <td>668</td>\n",
       "      <td>no</td>\n",
       "      <td>no</td>\n",
       "      <td>telephone</td>\n",
       "      <td>17</td>\n",
       "      <td>nov</td>\n",
       "      <td>508</td>\n",
       "      <td>4</td>\n",
       "      <td>-1</td>\n",
       "      <td>0</td>\n",
       "      <td>unknown</td>\n",
       "      <td>no</td>\n",
       "    </tr>\n",
       "    <tr>\n",
       "      <th>45210</th>\n",
       "      <td>37</td>\n",
       "      <td>entrepreneur</td>\n",
       "      <td>married</td>\n",
       "      <td>secondary</td>\n",
       "      <td>no</td>\n",
       "      <td>2971</td>\n",
       "      <td>no</td>\n",
       "      <td>no</td>\n",
       "      <td>cellular</td>\n",
       "      <td>17</td>\n",
       "      <td>nov</td>\n",
       "      <td>361</td>\n",
       "      <td>2</td>\n",
       "      <td>188</td>\n",
       "      <td>11</td>\n",
       "      <td>other</td>\n",
       "      <td>no</td>\n",
       "    </tr>\n",
       "  </tbody>\n",
       "</table>\n",
       "<p>45211 rows × 17 columns</p>\n",
       "</div>"
      ],
      "text/plain": [
       "       age           job   marital  education default  balance housing loan  \\\n",
       "0       58    management   married   tertiary      no     2143     yes   no   \n",
       "1       44    technician    single  secondary      no       29     yes   no   \n",
       "2       33  entrepreneur   married  secondary      no        2     yes  yes   \n",
       "3       47   blue-collar   married    unknown      no     1506     yes   no   \n",
       "4       33       unknown    single    unknown      no        1      no   no   \n",
       "...    ...           ...       ...        ...     ...      ...     ...  ...   \n",
       "45206   51    technician   married   tertiary      no      825      no   no   \n",
       "45207   71       retired  divorced    primary      no     1729      no   no   \n",
       "45208   72       retired   married  secondary      no     5715      no   no   \n",
       "45209   57   blue-collar   married  secondary      no      668      no   no   \n",
       "45210   37  entrepreneur   married  secondary      no     2971      no   no   \n",
       "\n",
       "         contact  day month  duration  campaign  pdays  previous poutcome    y  \n",
       "0        unknown    5   may       261         1     -1         0  unknown   no  \n",
       "1        unknown    5   may       151         1     -1         0  unknown   no  \n",
       "2        unknown    5   may        76         1     -1         0  unknown   no  \n",
       "3        unknown    5   may        92         1     -1         0  unknown   no  \n",
       "4        unknown    5   may       198         1     -1         0  unknown   no  \n",
       "...          ...  ...   ...       ...       ...    ...       ...      ...  ...  \n",
       "45206   cellular   17   nov       977         3     -1         0  unknown  yes  \n",
       "45207   cellular   17   nov       456         2     -1         0  unknown  yes  \n",
       "45208   cellular   17   nov      1127         5    184         3  success  yes  \n",
       "45209  telephone   17   nov       508         4     -1         0  unknown   no  \n",
       "45210   cellular   17   nov       361         2    188        11    other   no  \n",
       "\n",
       "[45211 rows x 17 columns]"
      ]
     },
     "execution_count": 54,
     "metadata": {},
     "output_type": "execute_result"
    }
   ],
   "source": [
    "df_update=df.copy()\n",
    "df_update"
   ]
  },
  {
   "cell_type": "markdown",
   "id": "8ae4a881",
   "metadata": {},
   "source": [
    "# 1. Age\n",
    "classifying age in 5 parts with difference of 10"
   ]
  },
  {
   "cell_type": "code",
   "execution_count": 55,
   "id": "f00213b2",
   "metadata": {},
   "outputs": [],
   "source": [
    "a1=df_update[(df_update['age']>=18)&(df_update['age']<=28)]\n",
    "a2=df_update[(df_update['age']>=29)&(df_update['age']<=39)]\n",
    "a3=df_update[(df_update['age']>=40)&(df_update['age']<=50)]\n",
    "a4=df_update[(df_update['age']>=51)&(df_update['age']<=60)]\n",
    "a5=df_update[(df_update['age']>=61)]"
   ]
  },
  {
   "cell_type": "code",
   "execution_count": 57,
   "id": "b5ac1ff4",
   "metadata": {},
   "outputs": [],
   "source": [
    "total=[]\n",
    "list1=[a1,a2,a3,a4,a5]\n",
    "for i in list1:\n",
    "    total.append(i.shape[0])\n",
    "yes_count=[]\n",
    "for i in list1:\n",
    "    yes_count.append(i[i['y']=='yes'].count()['y'])\n",
    "        "
   ]
  },
  {
   "cell_type": "code",
   "execution_count": 58,
   "id": "d3002454",
   "metadata": {
    "scrolled": true
   },
   "outputs": [
    {
     "data": {
      "text/html": [
       "<div>\n",
       "<style scoped>\n",
       "    .dataframe tbody tr th:only-of-type {\n",
       "        vertical-align: middle;\n",
       "    }\n",
       "\n",
       "    .dataframe tbody tr th {\n",
       "        vertical-align: top;\n",
       "    }\n",
       "\n",
       "    .dataframe thead th {\n",
       "        text-align: right;\n",
       "    }\n",
       "</style>\n",
       "<table border=\"1\" class=\"dataframe\">\n",
       "  <thead>\n",
       "    <tr style=\"text-align: right;\">\n",
       "      <th></th>\n",
       "      <th>Age Gropus</th>\n",
       "      <th>Total</th>\n",
       "      <th>Yes Count</th>\n",
       "      <th>Percentage</th>\n",
       "    </tr>\n",
       "  </thead>\n",
       "  <tbody>\n",
       "    <tr>\n",
       "      <th>4</th>\n",
       "      <td>61+</td>\n",
       "      <td>1188</td>\n",
       "      <td>502</td>\n",
       "      <td>42.255892</td>\n",
       "    </tr>\n",
       "    <tr>\n",
       "      <th>0</th>\n",
       "      <td>18-28</td>\n",
       "      <td>4088</td>\n",
       "      <td>757</td>\n",
       "      <td>18.517613</td>\n",
       "    </tr>\n",
       "    <tr>\n",
       "      <th>1</th>\n",
       "      <td>29-39</td>\n",
       "      <td>19274</td>\n",
       "      <td>2084</td>\n",
       "      <td>10.812494</td>\n",
       "    </tr>\n",
       "    <tr>\n",
       "      <th>3</th>\n",
       "      <td>51-60</td>\n",
       "      <td>8067</td>\n",
       "      <td>811</td>\n",
       "      <td>10.053304</td>\n",
       "    </tr>\n",
       "    <tr>\n",
       "      <th>2</th>\n",
       "      <td>40-50</td>\n",
       "      <td>12594</td>\n",
       "      <td>1135</td>\n",
       "      <td>9.012228</td>\n",
       "    </tr>\n",
       "  </tbody>\n",
       "</table>\n",
       "</div>"
      ],
      "text/plain": [
       "  Age Gropus  Total  Yes Count  Percentage\n",
       "4        61+   1188        502   42.255892\n",
       "0      18-28   4088        757   18.517613\n",
       "1      29-39  19274       2084   10.812494\n",
       "3      51-60   8067        811   10.053304\n",
       "2      40-50  12594       1135    9.012228"
      ]
     },
     "execution_count": 58,
     "metadata": {},
     "output_type": "execute_result"
    }
   ],
   "source": [
    "age_final=pd.DataFrame()\n",
    "age_final['Age Gropus']=['18-28','29-39','40-50','51-60','61+']\n",
    "age_final['Total']=total\n",
    "age_final['Yes Count']=yes_count\n",
    "age_final['Percentage']=(age_final['Yes Count']/age_final['Total'])*100\n",
    "age_final.sort_values(by='Percentage',ascending=False)"
   ]
  },
  {
   "cell_type": "markdown",
   "id": "624eeb4d",
   "metadata": {},
   "source": [
    "So, above arrangement shows that age groups of 61+ and 18-28 are of higher percentage while age group of 40-50 has the less percentage"
   ]
  },
  {
   "cell_type": "markdown",
   "id": "c828cea0",
   "metadata": {},
   "source": [
    "# 2. Job Type"
   ]
  },
  {
   "cell_type": "code",
   "execution_count": 38,
   "id": "2cbe0f28",
   "metadata": {},
   "outputs": [
    {
     "data": {
      "text/plain": [
       "Index(['blue-collar', 'management', 'technician', 'admin.', 'services',\n",
       "       'retired', 'self-employed', 'entrepreneur', 'unemployed', 'housemaid',\n",
       "       'student', 'unknown'],\n",
       "      dtype='object')"
      ]
     },
     "execution_count": 38,
     "metadata": {},
     "output_type": "execute_result"
    }
   ],
   "source": [
    "df_update['job'].value_counts().index"
   ]
  },
  {
   "cell_type": "code",
   "execution_count": 59,
   "id": "4ec2199e",
   "metadata": {},
   "outputs": [
    {
     "data": {
      "text/html": [
       "<div>\n",
       "<style scoped>\n",
       "    .dataframe tbody tr th:only-of-type {\n",
       "        vertical-align: middle;\n",
       "    }\n",
       "\n",
       "    .dataframe tbody tr th {\n",
       "        vertical-align: top;\n",
       "    }\n",
       "\n",
       "    .dataframe thead th {\n",
       "        text-align: right;\n",
       "    }\n",
       "</style>\n",
       "<table border=\"1\" class=\"dataframe\">\n",
       "  <thead>\n",
       "    <tr style=\"text-align: right;\">\n",
       "      <th></th>\n",
       "      <th>Job Title</th>\n",
       "      <th>Total</th>\n",
       "      <th>Yes</th>\n",
       "      <th>No</th>\n",
       "    </tr>\n",
       "  </thead>\n",
       "  <tbody>\n",
       "    <tr>\n",
       "      <th>0</th>\n",
       "      <td>blue-collar</td>\n",
       "      <td>9732</td>\n",
       "      <td>708</td>\n",
       "      <td>9024</td>\n",
       "    </tr>\n",
       "    <tr>\n",
       "      <th>1</th>\n",
       "      <td>management</td>\n",
       "      <td>9458</td>\n",
       "      <td>1301</td>\n",
       "      <td>8157</td>\n",
       "    </tr>\n",
       "    <tr>\n",
       "      <th>2</th>\n",
       "      <td>technician</td>\n",
       "      <td>7597</td>\n",
       "      <td>840</td>\n",
       "      <td>6757</td>\n",
       "    </tr>\n",
       "    <tr>\n",
       "      <th>3</th>\n",
       "      <td>admin.</td>\n",
       "      <td>5171</td>\n",
       "      <td>631</td>\n",
       "      <td>4540</td>\n",
       "    </tr>\n",
       "    <tr>\n",
       "      <th>4</th>\n",
       "      <td>services</td>\n",
       "      <td>4154</td>\n",
       "      <td>369</td>\n",
       "      <td>3785</td>\n",
       "    </tr>\n",
       "    <tr>\n",
       "      <th>5</th>\n",
       "      <td>retired</td>\n",
       "      <td>2264</td>\n",
       "      <td>516</td>\n",
       "      <td>1748</td>\n",
       "    </tr>\n",
       "    <tr>\n",
       "      <th>6</th>\n",
       "      <td>self-employed</td>\n",
       "      <td>1579</td>\n",
       "      <td>187</td>\n",
       "      <td>1392</td>\n",
       "    </tr>\n",
       "    <tr>\n",
       "      <th>7</th>\n",
       "      <td>entrepreneur</td>\n",
       "      <td>1487</td>\n",
       "      <td>123</td>\n",
       "      <td>1364</td>\n",
       "    </tr>\n",
       "    <tr>\n",
       "      <th>8</th>\n",
       "      <td>unemployed</td>\n",
       "      <td>1303</td>\n",
       "      <td>202</td>\n",
       "      <td>1101</td>\n",
       "    </tr>\n",
       "    <tr>\n",
       "      <th>9</th>\n",
       "      <td>housemaid</td>\n",
       "      <td>1240</td>\n",
       "      <td>109</td>\n",
       "      <td>1131</td>\n",
       "    </tr>\n",
       "    <tr>\n",
       "      <th>10</th>\n",
       "      <td>student</td>\n",
       "      <td>938</td>\n",
       "      <td>269</td>\n",
       "      <td>669</td>\n",
       "    </tr>\n",
       "    <tr>\n",
       "      <th>11</th>\n",
       "      <td>unknown</td>\n",
       "      <td>288</td>\n",
       "      <td>34</td>\n",
       "      <td>254</td>\n",
       "    </tr>\n",
       "  </tbody>\n",
       "</table>\n",
       "</div>"
      ],
      "text/plain": [
       "        Job Title  Total   Yes    No\n",
       "0     blue-collar   9732   708  9024\n",
       "1      management   9458  1301  8157\n",
       "2      technician   7597   840  6757\n",
       "3          admin.   5171   631  4540\n",
       "4        services   4154   369  3785\n",
       "5         retired   2264   516  1748\n",
       "6   self-employed   1579   187  1392\n",
       "7    entrepreneur   1487   123  1364\n",
       "8      unemployed   1303   202  1101\n",
       "9       housemaid   1240   109  1131\n",
       "10        student    938   269   669\n",
       "11        unknown    288    34   254"
      ]
     },
     "execution_count": 59,
     "metadata": {},
     "output_type": "execute_result"
    }
   ],
   "source": [
    "total_count_in_each_group=[]\n",
    "yes_count=[]\n",
    "no_count=[]\n",
    "title=[]\n",
    "for i in df_update['job'].value_counts().index:\n",
    "    df_job=pd.DataFrame()\n",
    "    df_job=df_update[df_update['job']==i]\n",
    "    title.append(i)\n",
    "    total_count_in_each_group.append(df_job.shape[0])\n",
    "    yes_count.append(df_job[df_job['y']=='yes'].count()['y'])\n",
    "    no_count.append(df_job[df_job['y']=='no'].count()['y'])\n",
    "df_jobs=pd.DataFrame()\n",
    "df_jobs['Job Title']=title\n",
    "df_jobs['Total']=total_count_in_each_group\n",
    "df_jobs['Yes']=yes_count\n",
    "df_jobs['No']=no_count\n",
    "df_jobs    "
   ]
  },
  {
   "cell_type": "code",
   "execution_count": 40,
   "id": "1af22086",
   "metadata": {},
   "outputs": [
    {
     "data": {
      "text/plain": [
       "([<matplotlib.axis.XTick at 0x275eb7fe790>,\n",
       "  <matplotlib.axis.XTick at 0x275eb7fe760>,\n",
       "  <matplotlib.axis.XTick at 0x275eb7b2b80>,\n",
       "  <matplotlib.axis.XTick at 0x275ea99c490>,\n",
       "  <matplotlib.axis.XTick at 0x275ea99c9a0>,\n",
       "  <matplotlib.axis.XTick at 0x275ea99ceb0>,\n",
       "  <matplotlib.axis.XTick at 0x275ea9a4430>,\n",
       "  <matplotlib.axis.XTick at 0x275ea9a4940>,\n",
       "  <matplotlib.axis.XTick at 0x275eb8022e0>,\n",
       "  <matplotlib.axis.XTick at 0x275ea9a9400>,\n",
       "  <matplotlib.axis.XTick at 0x275ea9a9910>,\n",
       "  <matplotlib.axis.XTick at 0x275ea9a49a0>],\n",
       " [Text(0, 0, 'blue-collar'),\n",
       "  Text(1, 0, 'management'),\n",
       "  Text(2, 0, 'technician'),\n",
       "  Text(3, 0, 'admin.'),\n",
       "  Text(4, 0, 'services'),\n",
       "  Text(5, 0, 'retired'),\n",
       "  Text(6, 0, 'self-employed'),\n",
       "  Text(7, 0, 'entrepreneur'),\n",
       "  Text(8, 0, 'unemployed'),\n",
       "  Text(9, 0, 'housemaid'),\n",
       "  Text(10, 0, 'student'),\n",
       "  Text(11, 0, 'unknown')])"
      ]
     },
     "execution_count": 40,
     "metadata": {},
     "output_type": "execute_result"
    },
    {
     "data": {
      "image/png": "[encoded data removed]",
      "text/plain": [
       "<Figure size 1440x360 with 1 Axes>"
      ]
     },
     "metadata": {},
     "output_type": "display_data"
    }
   ],
   "source": [
    "labels=df_jobs['Job Title']\n",
    "positions=np.arange(0,12,1)\n",
    "df_jobs.plot(kind='bar',figsize=(20,5))\n",
    "plt.xticks(positions,labels)"
   ]
  },
  {
   "cell_type": "code",
   "execution_count": 41,
   "id": "a9d41fa3",
   "metadata": {},
   "outputs": [
    {
     "data": {
      "text/html": [
       "<div>\n",
       "<style scoped>\n",
       "    .dataframe tbody tr th:only-of-type {\n",
       "        vertical-align: middle;\n",
       "    }\n",
       "\n",
       "    .dataframe tbody tr th {\n",
       "        vertical-align: top;\n",
       "    }\n",
       "\n",
       "    .dataframe thead th {\n",
       "        text-align: right;\n",
       "    }\n",
       "</style>\n",
       "<table border=\"1\" class=\"dataframe\">\n",
       "  <thead>\n",
       "    <tr style=\"text-align: right;\">\n",
       "      <th></th>\n",
       "      <th>Job Title</th>\n",
       "      <th>Percentage_yes</th>\n",
       "      <th>Percentage_no</th>\n",
       "    </tr>\n",
       "  </thead>\n",
       "  <tbody>\n",
       "    <tr>\n",
       "      <th>10</th>\n",
       "      <td>student</td>\n",
       "      <td>28.678038</td>\n",
       "      <td>71.321962</td>\n",
       "    </tr>\n",
       "    <tr>\n",
       "      <th>5</th>\n",
       "      <td>retired</td>\n",
       "      <td>22.791519</td>\n",
       "      <td>77.208481</td>\n",
       "    </tr>\n",
       "    <tr>\n",
       "      <th>8</th>\n",
       "      <td>unemployed</td>\n",
       "      <td>15.502686</td>\n",
       "      <td>84.497314</td>\n",
       "    </tr>\n",
       "    <tr>\n",
       "      <th>1</th>\n",
       "      <td>management</td>\n",
       "      <td>13.755551</td>\n",
       "      <td>86.244449</td>\n",
       "    </tr>\n",
       "    <tr>\n",
       "      <th>3</th>\n",
       "      <td>admin.</td>\n",
       "      <td>12.202669</td>\n",
       "      <td>87.797331</td>\n",
       "    </tr>\n",
       "    <tr>\n",
       "      <th>6</th>\n",
       "      <td>self-employed</td>\n",
       "      <td>11.842939</td>\n",
       "      <td>88.157061</td>\n",
       "    </tr>\n",
       "    <tr>\n",
       "      <th>11</th>\n",
       "      <td>unknown</td>\n",
       "      <td>11.805556</td>\n",
       "      <td>88.194444</td>\n",
       "    </tr>\n",
       "    <tr>\n",
       "      <th>2</th>\n",
       "      <td>technician</td>\n",
       "      <td>11.056996</td>\n",
       "      <td>88.943004</td>\n",
       "    </tr>\n",
       "    <tr>\n",
       "      <th>4</th>\n",
       "      <td>services</td>\n",
       "      <td>8.883004</td>\n",
       "      <td>91.116996</td>\n",
       "    </tr>\n",
       "    <tr>\n",
       "      <th>9</th>\n",
       "      <td>housemaid</td>\n",
       "      <td>8.790323</td>\n",
       "      <td>91.209677</td>\n",
       "    </tr>\n",
       "    <tr>\n",
       "      <th>7</th>\n",
       "      <td>entrepreneur</td>\n",
       "      <td>8.271688</td>\n",
       "      <td>91.728312</td>\n",
       "    </tr>\n",
       "    <tr>\n",
       "      <th>0</th>\n",
       "      <td>blue-collar</td>\n",
       "      <td>7.274969</td>\n",
       "      <td>92.725031</td>\n",
       "    </tr>\n",
       "  </tbody>\n",
       "</table>\n",
       "</div>"
      ],
      "text/plain": [
       "        Job Title  Percentage_yes  Percentage_no\n",
       "10        student       28.678038      71.321962\n",
       "5         retired       22.791519      77.208481\n",
       "8      unemployed       15.502686      84.497314\n",
       "1      management       13.755551      86.244449\n",
       "3          admin.       12.202669      87.797331\n",
       "6   self-employed       11.842939      88.157061\n",
       "11        unknown       11.805556      88.194444\n",
       "2      technician       11.056996      88.943004\n",
       "4        services        8.883004      91.116996\n",
       "9       housemaid        8.790323      91.209677\n",
       "7    entrepreneur        8.271688      91.728312\n",
       "0     blue-collar        7.274969      92.725031"
      ]
     },
     "execution_count": 41,
     "metadata": {},
     "output_type": "execute_result"
    }
   ],
   "source": [
    "df_jobs_final=pd.DataFrame()\n",
    "df_jobs_final['Job Title']=title\n",
    "df_jobs_final['Percentage_yes']=(df_jobs['Yes']/df_jobs['Total'])*100\n",
    "df_jobs_final['Percentage_no']=(df_jobs['No']/df_jobs['Total'])*100\n",
    "df_jobs_final=df_jobs_final.sort_values('Percentage_yes',ascending=False)\n",
    "df_jobs_final"
   ]
  },
  {
   "cell_type": "code",
   "execution_count": 42,
   "id": "576f8957",
   "metadata": {},
   "outputs": [
    {
     "data": {
      "text/plain": [
       "([<matplotlib.axis.XTick at 0x275ea9dd970>,\n",
       "  <matplotlib.axis.XTick at 0x275ea9dd940>,\n",
       "  <matplotlib.axis.XTick at 0x275eb8522e0>,\n",
       "  <matplotlib.axis.XTick at 0x275eb87e070>,\n",
       "  <matplotlib.axis.XTick at 0x275eb87e5b0>,\n",
       "  <matplotlib.axis.XTick at 0x275eb87eac0>,\n",
       "  <matplotlib.axis.XTick at 0x275eb87efd0>,\n",
       "  <matplotlib.axis.XTick at 0x275eb884520>,\n",
       "  <matplotlib.axis.XTick at 0x275ea9da550>,\n",
       "  <matplotlib.axis.XTick at 0x275eb87e100>,\n",
       "  <matplotlib.axis.XTick at 0x275eb884250>,\n",
       "  <matplotlib.axis.XTick at 0x275eb884fd0>],\n",
       " [Text(10, 0, 'student'),\n",
       "  Text(5, 0, 'retired'),\n",
       "  Text(8, 0, 'unemployed'),\n",
       "  Text(1, 0, 'management'),\n",
       "  Text(3, 0, 'admin.'),\n",
       "  Text(6, 0, 'self-employed'),\n",
       "  Text(11, 0, 'unknown'),\n",
       "  Text(2, 0, 'technician'),\n",
       "  Text(4, 0, 'services'),\n",
       "  Text(9, 0, 'housemaid'),\n",
       "  Text(7, 0, 'entrepreneur'),\n",
       "  Text(0, 0, 'blue-collar')])"
      ]
     },
     "execution_count": 42,
     "metadata": {},
     "output_type": "execute_result"
    },
    {
     "data": {
      "image/png": "[encoded data removed]",
      "text/plain": [
       "<Figure size 1440x360 with 1 Axes>"
      ]
     },
     "metadata": {},
     "output_type": "display_data"
    }
   ],
   "source": [
    "labels=df_jobs_final['Job Title'].tolist()\n",
    "positions=df_jobs_final['Job Title'].index\n",
    "df_jobs_final.plot(kind='bar',figsize=(20,5))\n",
    "plt.xticks(positions,labels)"
   ]
  },
  {
   "cell_type": "markdown",
   "id": "7503da44",
   "metadata": {},
   "source": [
    "1)From above graph we can see that students and retired people are the clients who have high percentage of of subscription rate.\n",
    "\n",
    "2)Blue-collar,entrepreneur,housemaid,services have low are few jobs that have low subscription rate.\n",
    "\n",
    "3)People with job description as 'Blue-collar' are the most contacted people\n",
    "\n",
    "4)Students are the less contacted people\n",
    "\n",
    "4)We have 288 enteries where job is unknown."
   ]
  },
  {
   "cell_type": "markdown",
   "id": "d58c336d",
   "metadata": {},
   "source": [
    "# 3. Marital Status"
   ]
  },
  {
   "cell_type": "code",
   "execution_count": 43,
   "id": "eeb0f1c9",
   "metadata": {},
   "outputs": [
    {
     "data": {
      "text/html": [
       "<div>\n",
       "<style scoped>\n",
       "    .dataframe tbody tr th:only-of-type {\n",
       "        vertical-align: middle;\n",
       "    }\n",
       "\n",
       "    .dataframe tbody tr th {\n",
       "        vertical-align: top;\n",
       "    }\n",
       "\n",
       "    .dataframe thead th {\n",
       "        text-align: right;\n",
       "    }\n",
       "</style>\n",
       "<table border=\"1\" class=\"dataframe\">\n",
       "  <thead>\n",
       "    <tr style=\"text-align: right;\">\n",
       "      <th></th>\n",
       "      <th>marital</th>\n",
       "    </tr>\n",
       "  </thead>\n",
       "  <tbody>\n",
       "    <tr>\n",
       "      <th>married</th>\n",
       "      <td>27214</td>\n",
       "    </tr>\n",
       "    <tr>\n",
       "      <th>single</th>\n",
       "      <td>12790</td>\n",
       "    </tr>\n",
       "    <tr>\n",
       "      <th>divorced</th>\n",
       "      <td>5207</td>\n",
       "    </tr>\n",
       "  </tbody>\n",
       "</table>\n",
       "</div>"
      ],
      "text/plain": [
       "          marital\n",
       "married     27214\n",
       "single      12790\n",
       "divorced     5207"
      ]
     },
     "execution_count": 43,
     "metadata": {},
     "output_type": "execute_result"
    }
   ],
   "source": [
    "df_married=df_update[df_update['marital']=='married']\n",
    "df_single=df_update[df_update['marital']=='single']\n",
    "df_divorced=df_update[df_update['marital']=='divorced']\n",
    "married=df_update['marital'].value_counts().to_frame()\n",
    "married"
   ]
  },
  {
   "cell_type": "code",
   "execution_count": 44,
   "id": "7d9ecfdd",
   "metadata": {},
   "outputs": [],
   "source": [
    "yes_count=[]\n",
    "yes_count.append(df_married[df_married['y']=='yes'].count()[1])\n",
    "yes_count.append(df_single[df_single['y']=='yes'].count()[1])\n",
    "yes_count.append(df_divorced[df_divorced['y']=='yes'].count()[1])\n",
    "married['Subscription count']=yes_count"
   ]
  },
  {
   "cell_type": "code",
   "execution_count": 45,
   "id": "e2f9807e",
   "metadata": {},
   "outputs": [
    {
     "data": {
      "text/plain": [
       "<AxesSubplot:>"
      ]
     },
     "execution_count": 45,
     "metadata": {},
     "output_type": "execute_result"
    },
    {
     "data": {
      "image/png": "[encoded data removed]",
      "text/plain": [
       "<Figure size 432x288 with 1 Axes>"
      ]
     },
     "metadata": {},
     "output_type": "display_data"
    }
   ],
   "source": [
    "married.plot(kind='bar')"
   ]
  },
  {
   "cell_type": "code",
   "execution_count": 46,
   "id": "ac640817",
   "metadata": {},
   "outputs": [
    {
     "data": {
      "text/html": [
       "<div>\n",
       "<style scoped>\n",
       "    .dataframe tbody tr th:only-of-type {\n",
       "        vertical-align: middle;\n",
       "    }\n",
       "\n",
       "    .dataframe tbody tr th {\n",
       "        vertical-align: top;\n",
       "    }\n",
       "\n",
       "    .dataframe thead th {\n",
       "        text-align: right;\n",
       "    }\n",
       "</style>\n",
       "<table border=\"1\" class=\"dataframe\">\n",
       "  <thead>\n",
       "    <tr style=\"text-align: right;\">\n",
       "      <th></th>\n",
       "      <th>marital</th>\n",
       "      <th>Subscription count</th>\n",
       "      <th>Percentage</th>\n",
       "    </tr>\n",
       "  </thead>\n",
       "  <tbody>\n",
       "    <tr>\n",
       "      <th>single</th>\n",
       "      <td>12790</td>\n",
       "      <td>1912</td>\n",
       "      <td>14.949179</td>\n",
       "    </tr>\n",
       "    <tr>\n",
       "      <th>divorced</th>\n",
       "      <td>5207</td>\n",
       "      <td>622</td>\n",
       "      <td>11.945458</td>\n",
       "    </tr>\n",
       "    <tr>\n",
       "      <th>married</th>\n",
       "      <td>27214</td>\n",
       "      <td>2755</td>\n",
       "      <td>10.123466</td>\n",
       "    </tr>\n",
       "  </tbody>\n",
       "</table>\n",
       "</div>"
      ],
      "text/plain": [
       "          marital  Subscription count  Percentage\n",
       "single      12790                1912   14.949179\n",
       "divorced     5207                 622   11.945458\n",
       "married     27214                2755   10.123466"
      ]
     },
     "execution_count": 46,
     "metadata": {},
     "output_type": "execute_result"
    }
   ],
   "source": [
    "married['Percentage']=(married['Subscription count']/married['marital'])*100\n",
    "married.sort_values(by='Percentage',ascending=False)"
   ]
  },
  {
   "cell_type": "markdown",
   "id": "c39c9cb4",
   "metadata": {},
   "source": [
    "Subscription counts are not very related to marital status. They don't have strong relationship."
   ]
  },
  {
   "cell_type": "markdown",
   "id": "1b41681f",
   "metadata": {},
   "source": [
    "# 4. Education"
   ]
  },
  {
   "cell_type": "code",
   "execution_count": 60,
   "id": "7761f40b",
   "metadata": {},
   "outputs": [
    {
     "data": {
      "text/html": [
       "<div>\n",
       "<style scoped>\n",
       "    .dataframe tbody tr th:only-of-type {\n",
       "        vertical-align: middle;\n",
       "    }\n",
       "\n",
       "    .dataframe tbody tr th {\n",
       "        vertical-align: top;\n",
       "    }\n",
       "\n",
       "    .dataframe thead th {\n",
       "        text-align: right;\n",
       "    }\n",
       "</style>\n",
       "<table border=\"1\" class=\"dataframe\">\n",
       "  <thead>\n",
       "    <tr style=\"text-align: right;\">\n",
       "      <th></th>\n",
       "      <th>education</th>\n",
       "    </tr>\n",
       "  </thead>\n",
       "  <tbody>\n",
       "    <tr>\n",
       "      <th>secondary</th>\n",
       "      <td>23202</td>\n",
       "    </tr>\n",
       "    <tr>\n",
       "      <th>tertiary</th>\n",
       "      <td>13301</td>\n",
       "    </tr>\n",
       "    <tr>\n",
       "      <th>primary</th>\n",
       "      <td>6851</td>\n",
       "    </tr>\n",
       "    <tr>\n",
       "      <th>unknown</th>\n",
       "      <td>1857</td>\n",
       "    </tr>\n",
       "  </tbody>\n",
       "</table>\n",
       "</div>"
      ],
      "text/plain": [
       "           education\n",
       "secondary      23202\n",
       "tertiary       13301\n",
       "primary         6851\n",
       "unknown         1857"
      ]
     },
     "execution_count": 60,
     "metadata": {},
     "output_type": "execute_result"
    }
   ],
   "source": [
    "education=df_update['education'].value_counts().to_frame()\n",
    "education"
   ]
  },
  {
   "cell_type": "code",
   "execution_count": 61,
   "id": "d2ca04e5",
   "metadata": {},
   "outputs": [],
   "source": [
    "df_secondary=df_update[df_update['education']=='secondary']\n",
    "df_tertiary=df_update[df_update['education']=='tertiary']\n",
    "df_primary=df_update[df_update['education']=='primary']\n",
    "df_unknown=df_update[df_update['education']=='unknown']"
   ]
  },
  {
   "cell_type": "code",
   "execution_count": 62,
   "id": "7accd139",
   "metadata": {},
   "outputs": [],
   "source": [
    "yes_count=[]\n",
    "yes_count.append(df_secondary[df_secondary['y']=='yes'].count()[1])\n",
    "yes_count.append(df_tertiary[df_tertiary['y']=='yes'].count()[1])\n",
    "yes_count.append(df_primary[df_primary['y']=='yes'].count()[1])\n",
    "yes_count.append(df_unknown[df_unknown['y']=='yes'].count()[1])\n",
    "education['Subscription count']=yes_count"
   ]
  },
  {
   "cell_type": "code",
   "execution_count": 63,
   "id": "c50e6087",
   "metadata": {},
   "outputs": [
    {
     "data": {
      "text/plain": [
       "<AxesSubplot:>"
      ]
     },
     "execution_count": 63,
     "metadata": {},
     "output_type": "execute_result"
    },
    {
     "data": {
      "image/png": "[encoded data removed]",
      "text/plain": [
       "<Figure size 432x288 with 1 Axes>"
      ]
     },
     "metadata": {},
     "output_type": "display_data"
    }
   ],
   "source": [
    "education.plot(kind='bar')"
   ]
  },
  {
   "cell_type": "code",
   "execution_count": 64,
   "id": "87407f48",
   "metadata": {},
   "outputs": [
    {
     "data": {
      "text/html": [
       "<div>\n",
       "<style scoped>\n",
       "    .dataframe tbody tr th:only-of-type {\n",
       "        vertical-align: middle;\n",
       "    }\n",
       "\n",
       "    .dataframe tbody tr th {\n",
       "        vertical-align: top;\n",
       "    }\n",
       "\n",
       "    .dataframe thead th {\n",
       "        text-align: right;\n",
       "    }\n",
       "</style>\n",
       "<table border=\"1\" class=\"dataframe\">\n",
       "  <thead>\n",
       "    <tr style=\"text-align: right;\">\n",
       "      <th></th>\n",
       "      <th>education</th>\n",
       "      <th>Subscription count</th>\n",
       "      <th>Percentage</th>\n",
       "    </tr>\n",
       "  </thead>\n",
       "  <tbody>\n",
       "    <tr>\n",
       "      <th>tertiary</th>\n",
       "      <td>13301</td>\n",
       "      <td>1996</td>\n",
       "      <td>15.006390</td>\n",
       "    </tr>\n",
       "    <tr>\n",
       "      <th>unknown</th>\n",
       "      <td>1857</td>\n",
       "      <td>252</td>\n",
       "      <td>13.570275</td>\n",
       "    </tr>\n",
       "    <tr>\n",
       "      <th>secondary</th>\n",
       "      <td>23202</td>\n",
       "      <td>2450</td>\n",
       "      <td>10.559435</td>\n",
       "    </tr>\n",
       "    <tr>\n",
       "      <th>primary</th>\n",
       "      <td>6851</td>\n",
       "      <td>591</td>\n",
       "      <td>8.626478</td>\n",
       "    </tr>\n",
       "  </tbody>\n",
       "</table>\n",
       "</div>"
      ],
      "text/plain": [
       "           education  Subscription count  Percentage\n",
       "tertiary       13301                1996   15.006390\n",
       "unknown         1857                 252   13.570275\n",
       "secondary      23202                2450   10.559435\n",
       "primary         6851                 591    8.626478"
      ]
     },
     "execution_count": 64,
     "metadata": {},
     "output_type": "execute_result"
    }
   ],
   "source": [
    "education['Percentage']=(education['Subscription count']/education['education'])*100\n",
    "education.sort_values(by='Percentage',ascending=False)"
   ]
  },
  {
   "cell_type": "markdown",
   "id": "7ee63bf6",
   "metadata": {},
   "source": [
    "We have most of the secondary education entries followed by the tertiary but the subscription count for tertiary education is most of all in terms of percentage"
   ]
  },
  {
   "cell_type": "markdown",
   "id": "c8bebb1c",
   "metadata": {},
   "source": [
    "# 5. Credit in default"
   ]
  },
  {
   "cell_type": "code",
   "execution_count": 65,
   "id": "53cac558",
   "metadata": {},
   "outputs": [
    {
     "name": "stdout",
     "output_type": "stream",
     "text": [
      "Total Count 45211\n",
      "1.8026586450200173\n",
      "98.19734135497998\n"
     ]
    },
    {
     "name": "stderr",
     "output_type": "stream",
     "text": [
      "C:\\Users\\abhir\\anaconda3\\lib\\site-packages\\seaborn\\_decorators.py:36: FutureWarning: Pass the following variable as a keyword arg: x. From version 0.12, the only valid positional argument will be `data`, and passing other arguments without an explicit keyword will result in an error or misinterpretation.\n",
      "  warnings.warn(\n"
     ]
    },
    {
     "data": {
      "image/png": "[encoded data removed]",
      "text/plain": [
       "<Figure size 432x288 with 1 Axes>"
      ]
     },
     "metadata": {},
     "output_type": "display_data"
    }
   ],
   "source": [
    "default_yes=df_update[df_update['default']=='yes']\n",
    "default_no=df_update[df_update['default']=='no']\n",
    "total=df_update.shape[0]\n",
    "yes=default_yes.count()['y']\n",
    "no=default_no.count()['y']\n",
    "sns.countplot(df_update['default'])\n",
    "print(\"Total Count\",total)\n",
    "print((yes/total)*100)\n",
    "print((no/total*100))"
   ]
  },
  {
   "cell_type": "markdown",
   "id": "0bd38d4c",
   "metadata": {},
   "source": [
    "98.1 % are not the defaulter whereas 1.9% are"
   ]
  },
  {
   "cell_type": "code",
   "execution_count": 66,
   "id": "c06f4df8",
   "metadata": {},
   "outputs": [
    {
     "name": "stdout",
     "output_type": "stream",
     "text": [
      "Default\n",
      "815\n",
      "6.38036809815951\n",
      "93.61963190184049\n"
     ]
    }
   ],
   "source": [
    "yes=default_yes[default_yes['y']=='yes'].count()['y']\n",
    "no=default_yes[default_yes['y']=='no'].count()['y']\n",
    "total=default_yes.count()['y']\n",
    "print(\"Default\")\n",
    "print(total)\n",
    "print((yes/total)*100)\n",
    "print((no/total)*100)"
   ]
  },
  {
   "cell_type": "markdown",
   "id": "43d4e5bb",
   "metadata": {},
   "source": [
    "6% of defaulters have opted for term deposit loan"
   ]
  },
  {
   "cell_type": "code",
   "execution_count": 67,
   "id": "49461c3f",
   "metadata": {},
   "outputs": [
    {
     "name": "stdout",
     "output_type": "stream",
     "text": [
      "Non default\n",
      "44396\n",
      "11.796107757455626\n",
      "88.20389224254437\n"
     ]
    }
   ],
   "source": [
    "yes=default_no[default_no['y']=='yes'].count()['y']\n",
    "no=default_no[default_no['y']=='no'].count()['y']\n",
    "total=default_no.count()['y']\n",
    "print(\"Non default\")\n",
    "print(total)\n",
    "print((yes/total)*100)\n",
    "print((no/total)*100)"
   ]
  },
  {
   "cell_type": "markdown",
   "id": "0ad82446",
   "metadata": {},
   "source": [
    "11% of the non defaulters have opted for term deposit loan"
   ]
  },
  {
   "cell_type": "code",
   "execution_count": 70,
   "id": "882e7bf4",
   "metadata": {},
   "outputs": [
    {
     "name": "stderr",
     "output_type": "stream",
     "text": [
      "C:\\Users\\abhir\\anaconda3\\lib\\site-packages\\seaborn\\_decorators.py:36: FutureWarning: Pass the following variable as a keyword arg: x. From version 0.12, the only valid positional argument will be `data`, and passing other arguments without an explicit keyword will result in an error or misinterpretation.\n",
      "  warnings.warn(\n"
     ]
    },
    {
     "data": {
      "text/plain": [
       "<AxesSubplot:xlabel='default', ylabel='count'>"
      ]
     },
     "execution_count": 70,
     "metadata": {},
     "output_type": "execute_result"
    },
    {
     "data": {
      "image/png": "[encoded data removed]",
      "text/plain": [
       "<Figure size 1440x360 with 1 Axes>"
      ]
     },
     "metadata": {},
     "output_type": "display_data"
    }
   ],
   "source": [
    "plt.figure(figsize=(20,5))\n",
    "sns.countplot(df_update['default'],hue=df_update['y'])"
   ]
  },
  {
   "cell_type": "markdown",
   "id": "ac939ae4",
   "metadata": {},
   "source": [
    "More clients with Non Default on credit have opted for term deposit loan"
   ]
  },
  {
   "cell_type": "markdown",
   "id": "ec4d068b",
   "metadata": {},
   "source": [
    "# 6. Housing Loan"
   ]
  },
  {
   "cell_type": "code",
   "execution_count": 71,
   "id": "793ed483",
   "metadata": {},
   "outputs": [
    {
     "name": "stderr",
     "output_type": "stream",
     "text": [
      "C:\\Users\\abhir\\anaconda3\\lib\\site-packages\\seaborn\\_decorators.py:36: FutureWarning: Pass the following variable as a keyword arg: x. From version 0.12, the only valid positional argument will be `data`, and passing other arguments without an explicit keyword will result in an error or misinterpretation.\n",
      "  warnings.warn(\n"
     ]
    },
    {
     "name": "stdout",
     "output_type": "stream",
     "text": [
      "Total counts\n",
      "We have  55.583818097365686  % who have house loan and count is  25130\n",
      "We have  44.416181902634314  % who have dont house loan and count is  20081\n"
     ]
    },
    {
     "data": {
      "image/png": "[encoded data removed]",
      "text/plain": [
       "<Figure size 432x288 with 1 Axes>"
      ]
     },
     "metadata": {},
     "output_type": "display_data"
    }
   ],
   "source": [
    "default_yes=df_update[df_update['housing']=='yes']\n",
    "default_no=df_update[df_update['housing']=='no']\n",
    "\n",
    "total=df_update.shape[0]\n",
    "yes=default_yes.count()['y']\n",
    "no=default_no.count()['y']\n",
    "sns.countplot(df_update['housing'])\n",
    "\n",
    "print(\"Total counts\")\n",
    "print(\"We have \",(yes/total)*100,\" % who have house loan and count is \", yes)\n",
    "print(\"We have \",(no/total)*100,\" % who have dont house loan and count is \",no)"
   ]
  },
  {
   "cell_type": "code",
   "execution_count": 73,
   "id": "4fc840c0",
   "metadata": {},
   "outputs": [
    {
     "name": "stdout",
     "output_type": "stream",
     "text": [
      "Total that have housing loan are 25130\n",
      "Out of the total 7.699960206923995  % have subscribed to Term Deposit Plan\n",
      "Out of the total 92.30003979307601  % have not subscribed to Term Deposit Plan\n"
     ]
    }
   ],
   "source": [
    "yes=default_yes[default_yes['y']=='yes'].count()['y']\n",
    "no=default_yes[default_yes['y']=='no'].count()['y']\n",
    "total=default_yes.count()['y']\n",
    "print(\"Total that have housing loan are\",total)\n",
    "print(\"Out of the total\",(yes/total)*100,\" % have subscribed to Term Deposit Plan\")\n",
    "print(\"Out of the total\",(no/total)*100,\" % have not subscribed to Term Deposit Plan\")"
   ]
  },
  {
   "cell_type": "code",
   "execution_count": 74,
   "id": "6cff69e0",
   "metadata": {},
   "outputs": [
    {
     "name": "stdout",
     "output_type": "stream",
     "text": [
      "Total number of people that don't housing loan are 20081\n",
      "Out of the total 16.70235546038544  % have subscribed to Term Deposit Plan\n",
      "Out of the total 83.29764453961455  % have not subscribed to Term Deposit Plan\n"
     ]
    }
   ],
   "source": [
    "yes=default_no[default_no['y']=='yes'].count()['y']\n",
    "no=default_no[default_no['y']=='no'].count()['y']\n",
    "total=default_no.count()['y']\n",
    "print(\"Total number of people that don't housing loan are\",total)\n",
    "print(\"Out of the total\",(yes/total)*100,\" % have subscribed to Term Deposit Plan\")\n",
    "print(\"Out of the total\",(no/total)*100,\" % have not subscribed to Term Deposit Plan\")"
   ]
  },
  {
   "cell_type": "code",
   "execution_count": 75,
   "id": "ea73900d",
   "metadata": {},
   "outputs": [
    {
     "name": "stderr",
     "output_type": "stream",
     "text": [
      "C:\\Users\\abhir\\anaconda3\\lib\\site-packages\\seaborn\\_decorators.py:36: FutureWarning: Pass the following variable as a keyword arg: x. From version 0.12, the only valid positional argument will be `data`, and passing other arguments without an explicit keyword will result in an error or misinterpretation.\n",
      "  warnings.warn(\n"
     ]
    },
    {
     "data": {
      "text/plain": [
       "<AxesSubplot:xlabel='housing', ylabel='count'>"
      ]
     },
     "execution_count": 75,
     "metadata": {},
     "output_type": "execute_result"
    },
    {
     "data": {
      "image/png": "[encoded data removed]",
      "text/plain": [
       "<Figure size 1440x360 with 1 Axes>"
      ]
     },
     "metadata": {},
     "output_type": "display_data"
    }
   ],
   "source": [
    "plt.figure(figsize=(20,5))\n",
    "sns.countplot(df_update['housing'],hue=df_update['y'])"
   ]
  },
  {
   "cell_type": "markdown",
   "id": "b3f403f4",
   "metadata": {},
   "source": [
    "There are more clients who don't have a housing loan and have subscribed to Term Deposit Plan.\n",
    "\n",
    "We have 44.41% of people who don't have housing loan and out of that 16.70% people have subscribed to Term Deposit plan"
   ]
  },
  {
   "cell_type": "markdown",
   "id": "6cb1caab",
   "metadata": {},
   "source": [
    "# 7. Personal Loan"
   ]
  },
  {
   "cell_type": "code",
   "execution_count": 76,
   "id": "3d03e66d",
   "metadata": {},
   "outputs": [
    {
     "name": "stderr",
     "output_type": "stream",
     "text": [
      "C:\\Users\\abhir\\anaconda3\\lib\\site-packages\\seaborn\\_decorators.py:36: FutureWarning: Pass the following variable as a keyword arg: x. From version 0.12, the only valid positional argument will be `data`, and passing other arguments without an explicit keyword will result in an error or misinterpretation.\n",
      "  warnings.warn(\n"
     ]
    },
    {
     "name": "stdout",
     "output_type": "stream",
     "text": [
      "Total counts\n",
      "We have  16.022649355245406  % who have personal loan and count is  7244\n",
      "We have  83.9773506447546  % who have dont personal loan and count is  37967\n"
     ]
    },
    {
     "data": {
      "image/png": "[encoded data removed]",
      "text/plain": [
       "<Figure size 432x288 with 1 Axes>"
      ]
     },
     "metadata": {},
     "output_type": "display_data"
    }
   ],
   "source": [
    "default_yes=df_update[df_update['loan']=='yes']\n",
    "default_no=df_update[df_update['loan']=='no']\n",
    "\n",
    "total=df_update.shape[0]\n",
    "yes=default_yes.count()['y']\n",
    "no=default_no.count()['y']\n",
    "sns.countplot(df_update['loan'])\n",
    "\n",
    "print(\"Total counts\")\n",
    "print(\"We have \",(yes/total)*100,\" % who have personal loan and count is \", yes)\n",
    "print(\"We have \",(no/total)*100,\" % who have dont personal loan and count is \",no)"
   ]
  },
  {
   "cell_type": "code",
   "execution_count": 77,
   "id": "f41ea5b1",
   "metadata": {},
   "outputs": [
    {
     "name": "stdout",
     "output_type": "stream",
     "text": [
      "Total that have Personal loan are 7244\n",
      "Out of the total 6.681391496410822  % have subscribed to Term Deposit Plan\n",
      "Out of the total 93.31860850358918  % have not subscribed to Term Deposit Plan\n"
     ]
    }
   ],
   "source": [
    "yes=default_yes[default_yes['y']=='yes'].count()['y']\n",
    "no=default_yes[default_yes['y']=='no'].count()['y']\n",
    "total=default_yes.count()['y']\n",
    "print(\"Total that have Personal loan are\",total)\n",
    "print(\"Out of the total\",(yes/total)*100,\" % have subscribed to Term Deposit Plan\")\n",
    "print(\"Out of the total\",(no/total)*100,\" % have not subscribed to Term Deposit Plan\")"
   ]
  },
  {
   "cell_type": "code",
   "execution_count": 78,
   "id": "e1b40eee",
   "metadata": {},
   "outputs": [
    {
     "name": "stdout",
     "output_type": "stream",
     "text": [
      "Total number of people that don't have personal loan are 37967\n",
      "Out of the total 12.655727342165566  % have subscribed to Term Deposit Plan\n",
      "Out of the total 87.34427265783444  % have not subscribed to Term Deposit Plan\n"
     ]
    }
   ],
   "source": [
    "yes=default_no[default_no['y']=='yes'].count()['y']\n",
    "no=default_no[default_no['y']=='no'].count()['y']\n",
    "total=default_no.count()['y']\n",
    "print(\"Total number of people that don't have personal loan are\",total)\n",
    "print(\"Out of the total\",(yes/total)*100,\" % have subscribed to Term Deposit Plan\")\n",
    "print(\"Out of the total\",(no/total)*100,\" % have not subscribed to Term Deposit Plan\")"
   ]
  },
  {
   "cell_type": "code",
   "execution_count": 79,
   "id": "3b8bbdb3",
   "metadata": {},
   "outputs": [
    {
     "name": "stderr",
     "output_type": "stream",
     "text": [
      "C:\\Users\\abhir\\anaconda3\\lib\\site-packages\\seaborn\\_decorators.py:36: FutureWarning: Pass the following variable as a keyword arg: x. From version 0.12, the only valid positional argument will be `data`, and passing other arguments without an explicit keyword will result in an error or misinterpretation.\n",
      "  warnings.warn(\n"
     ]
    },
    {
     "data": {
      "text/plain": [
       "<AxesSubplot:xlabel='housing', ylabel='count'>"
      ]
     },
     "execution_count": 79,
     "metadata": {},
     "output_type": "execute_result"
    },
    {
     "data": {
      "image/png": "[encoded data removed]",
      "text/plain": [
       "<Figure size 1440x360 with 1 Axes>"
      ]
     },
     "metadata": {},
     "output_type": "display_data"
    }
   ],
   "source": [
    "plt.figure(figsize=(20,5))\n",
    "sns.countplot(df_update['housing'],hue=df_update['y'])"
   ]
  },
  {
   "cell_type": "markdown",
   "id": "d4675d9a",
   "metadata": {},
   "source": [
    "There are less clients in no personal loan who have opted for Term Deposit Loan. \n",
    "Around 83% people have no personal loan and 12.65% in them have opted for Term Deposit Loan"
   ]
  },
  {
   "cell_type": "markdown",
   "id": "73311780",
   "metadata": {},
   "source": [
    "# 8. Contact Communication type"
   ]
  },
  {
   "cell_type": "markdown",
   "id": "269873aa",
   "metadata": {},
   "source": [
    "13020 out of 45211 column are unknown"
   ]
  },
  {
   "cell_type": "code",
   "execution_count": 80,
   "id": "19b1a5d4",
   "metadata": {},
   "outputs": [
    {
     "data": {
      "text/plain": [
       "cellular     29285\n",
       "unknown      13020\n",
       "telephone     2906\n",
       "Name: contact, dtype: int64"
      ]
     },
     "execution_count": 80,
     "metadata": {},
     "output_type": "execute_result"
    }
   ],
   "source": [
    "df_update['contact'].value_counts()"
   ]
  },
  {
   "cell_type": "code",
   "execution_count": 81,
   "id": "b4f492b9",
   "metadata": {},
   "outputs": [
    {
     "name": "stderr",
     "output_type": "stream",
     "text": [
      "C:\\Users\\abhir\\anaconda3\\lib\\site-packages\\seaborn\\_decorators.py:36: FutureWarning: Pass the following variable as a keyword arg: x. From version 0.12, the only valid positional argument will be `data`, and passing other arguments without an explicit keyword will result in an error or misinterpretation.\n",
      "  warnings.warn(\n"
     ]
    },
    {
     "data": {
      "text/plain": [
       "<AxesSubplot:xlabel='contact', ylabel='count'>"
      ]
     },
     "execution_count": 81,
     "metadata": {},
     "output_type": "execute_result"
    },
    {
     "data": {
      "image/png": "[encoded data removed]",
      "text/plain": [
       "<Figure size 432x288 with 1 Axes>"
      ]
     },
     "metadata": {},
     "output_type": "display_data"
    }
   ],
   "source": [
    "sns.countplot(df['contact'],hue=df['y'])"
   ]
  },
  {
   "cell_type": "markdown",
   "id": "e2bf23fc",
   "metadata": {},
   "source": [
    "# 9. Month wise subscription Rate"
   ]
  },
  {
   "cell_type": "code",
   "execution_count": 82,
   "id": "fba6a314",
   "metadata": {},
   "outputs": [
    {
     "data": {
      "text/plain": [
       "may    13766\n",
       "jul     6895\n",
       "aug     6247\n",
       "jun     5341\n",
       "nov     3970\n",
       "apr     2932\n",
       "feb     2649\n",
       "jan     1403\n",
       "oct      738\n",
       "sep      579\n",
       "mar      477\n",
       "dec      214\n",
       "Name: month, dtype: int64"
      ]
     },
     "execution_count": 82,
     "metadata": {},
     "output_type": "execute_result"
    }
   ],
   "source": [
    "df_update['month'].value_counts()"
   ]
  },
  {
   "cell_type": "code",
   "execution_count": 83,
   "id": "eb74d502",
   "metadata": {},
   "outputs": [],
   "source": [
    "df_update.loc[df_update['month']=='jan','month']=1\n",
    "df_update.loc[df_update['month']=='feb','month']=2\n",
    "df_update.loc[df_update['month']=='mar','month']=3\n",
    "df_update.loc[df_update['month']=='apr','month']=4\n",
    "df_update.loc[df_update['month']=='may','month']=5\n",
    "df_update.loc[df_update['month']=='jun','month']=6\n",
    "df_update.loc[df_update['month']=='jul','month']=7\n",
    "df_update.loc[df_update['month']=='aug','month']=8\n",
    "df_update.loc[df_update['month']=='sep','month']=9\n",
    "df_update.loc[df_update['month']=='oct','month']=10\n",
    "df_update.loc[df_update['month']=='nov','month']=11\n",
    "df_update.loc[df_update['month']=='dec','month']=12"
   ]
  },
  {
   "cell_type": "code",
   "execution_count": 84,
   "id": "eb3fc57c",
   "metadata": {},
   "outputs": [
    {
     "name": "stdout",
     "output_type": "stream",
     "text": [
      "[1, 2, 3, 4, 5, 6, 7, 8, 9, 10, 11, 12]\n",
      "[1403, 2649, 477, 2932, 13766, 5341, 6895, 6247, 579, 738, 3970, 214]\n",
      "[142, 441, 248, 577, 925, 546, 627, 688, 269, 323, 403, 100]\n",
      "[1261, 2208, 229, 2355, 12841, 4795, 6268, 5559, 310, 415, 3567, 114]\n"
     ]
    }
   ],
   "source": [
    "dict1=dict(list(df_update.groupby(['month','y'])))\n",
    "list1=[1,2,3,4,5,6,7,8,9,10,11,12]\n",
    "no=[]\n",
    "yes=[]\n",
    "months=[]\n",
    "for i in list1:\n",
    "  months.append(i)\n",
    "  for j in ['no','yes']:\n",
    "    if(j=='no'):\n",
    "      no.append(dict1[i,j].count()['y'])\n",
    "    else:\n",
    "      yes.append(dict1[i,j].count()['y'])\n",
    "\n",
    "total_count_per_month=[]\n",
    "dict2=dict(list(df_update.groupby(['month'])))\n",
    "for i in list1:\n",
    "  total_count_per_month.append(dict2[i].count()['y'])\n",
    "\n",
    "      \n",
    "print(months)\n",
    "print(total_count_per_month)\n",
    "print(yes)\n",
    "print(no)"
   ]
  },
  {
   "cell_type": "code",
   "execution_count": 85,
   "id": "b2928549",
   "metadata": {},
   "outputs": [],
   "source": [
    "month_wise=pd.DataFrame()\n",
    "month_wise['Months']=months\n",
    "month_wise['Total ENteries per month']=total_count_per_month\n",
    "month_wise['Count of Subscribed']=yes\n",
    "month_wise['Count of Not Sub']=no\n",
    "month_wise['Subscription Rate']=(month_wise['Count of Subscribed']/month_wise['Total ENteries per month'])*100\n",
    "month_wise['Not Sub Rate']=(month_wise['Count of Not Sub']/month_wise['Total ENteries per month'])*100"
   ]
  },
  {
   "cell_type": "code",
   "execution_count": 86,
   "id": "d03ba581",
   "metadata": {},
   "outputs": [
    {
     "data": {
      "text/html": [
       "<div>\n",
       "<style scoped>\n",
       "    .dataframe tbody tr th:only-of-type {\n",
       "        vertical-align: middle;\n",
       "    }\n",
       "\n",
       "    .dataframe tbody tr th {\n",
       "        vertical-align: top;\n",
       "    }\n",
       "\n",
       "    .dataframe thead th {\n",
       "        text-align: right;\n",
       "    }\n",
       "</style>\n",
       "<table border=\"1\" class=\"dataframe\">\n",
       "  <thead>\n",
       "    <tr style=\"text-align: right;\">\n",
       "      <th></th>\n",
       "      <th>Months</th>\n",
       "      <th>Total ENteries per month</th>\n",
       "      <th>Count of Subscribed</th>\n",
       "      <th>Count of Not Sub</th>\n",
       "      <th>Subscription Rate</th>\n",
       "      <th>Not Sub Rate</th>\n",
       "    </tr>\n",
       "  </thead>\n",
       "  <tbody>\n",
       "    <tr>\n",
       "      <th>2</th>\n",
       "      <td>3</td>\n",
       "      <td>477</td>\n",
       "      <td>248</td>\n",
       "      <td>229</td>\n",
       "      <td>51.991614</td>\n",
       "      <td>48.008386</td>\n",
       "    </tr>\n",
       "    <tr>\n",
       "      <th>11</th>\n",
       "      <td>12</td>\n",
       "      <td>214</td>\n",
       "      <td>100</td>\n",
       "      <td>114</td>\n",
       "      <td>46.728972</td>\n",
       "      <td>53.271028</td>\n",
       "    </tr>\n",
       "    <tr>\n",
       "      <th>8</th>\n",
       "      <td>9</td>\n",
       "      <td>579</td>\n",
       "      <td>269</td>\n",
       "      <td>310</td>\n",
       "      <td>46.459413</td>\n",
       "      <td>53.540587</td>\n",
       "    </tr>\n",
       "    <tr>\n",
       "      <th>9</th>\n",
       "      <td>10</td>\n",
       "      <td>738</td>\n",
       "      <td>323</td>\n",
       "      <td>415</td>\n",
       "      <td>43.766938</td>\n",
       "      <td>56.233062</td>\n",
       "    </tr>\n",
       "    <tr>\n",
       "      <th>3</th>\n",
       "      <td>4</td>\n",
       "      <td>2932</td>\n",
       "      <td>577</td>\n",
       "      <td>2355</td>\n",
       "      <td>19.679400</td>\n",
       "      <td>80.320600</td>\n",
       "    </tr>\n",
       "    <tr>\n",
       "      <th>1</th>\n",
       "      <td>2</td>\n",
       "      <td>2649</td>\n",
       "      <td>441</td>\n",
       "      <td>2208</td>\n",
       "      <td>16.647792</td>\n",
       "      <td>83.352208</td>\n",
       "    </tr>\n",
       "    <tr>\n",
       "      <th>7</th>\n",
       "      <td>8</td>\n",
       "      <td>6247</td>\n",
       "      <td>688</td>\n",
       "      <td>5559</td>\n",
       "      <td>11.013286</td>\n",
       "      <td>88.986714</td>\n",
       "    </tr>\n",
       "    <tr>\n",
       "      <th>5</th>\n",
       "      <td>6</td>\n",
       "      <td>5341</td>\n",
       "      <td>546</td>\n",
       "      <td>4795</td>\n",
       "      <td>10.222805</td>\n",
       "      <td>89.777195</td>\n",
       "    </tr>\n",
       "    <tr>\n",
       "      <th>10</th>\n",
       "      <td>11</td>\n",
       "      <td>3970</td>\n",
       "      <td>403</td>\n",
       "      <td>3567</td>\n",
       "      <td>10.151134</td>\n",
       "      <td>89.848866</td>\n",
       "    </tr>\n",
       "    <tr>\n",
       "      <th>0</th>\n",
       "      <td>1</td>\n",
       "      <td>1403</td>\n",
       "      <td>142</td>\n",
       "      <td>1261</td>\n",
       "      <td>10.121169</td>\n",
       "      <td>89.878831</td>\n",
       "    </tr>\n",
       "    <tr>\n",
       "      <th>6</th>\n",
       "      <td>7</td>\n",
       "      <td>6895</td>\n",
       "      <td>627</td>\n",
       "      <td>6268</td>\n",
       "      <td>9.093546</td>\n",
       "      <td>90.906454</td>\n",
       "    </tr>\n",
       "    <tr>\n",
       "      <th>4</th>\n",
       "      <td>5</td>\n",
       "      <td>13766</td>\n",
       "      <td>925</td>\n",
       "      <td>12841</td>\n",
       "      <td>6.719454</td>\n",
       "      <td>93.280546</td>\n",
       "    </tr>\n",
       "  </tbody>\n",
       "</table>\n",
       "</div>"
      ],
      "text/plain": [
       "    Months  Total ENteries per month  Count of Subscribed  Count of Not Sub  \\\n",
       "2        3                       477                  248               229   \n",
       "11      12                       214                  100               114   \n",
       "8        9                       579                  269               310   \n",
       "9       10                       738                  323               415   \n",
       "3        4                      2932                  577              2355   \n",
       "1        2                      2649                  441              2208   \n",
       "7        8                      6247                  688              5559   \n",
       "5        6                      5341                  546              4795   \n",
       "10      11                      3970                  403              3567   \n",
       "0        1                      1403                  142              1261   \n",
       "6        7                      6895                  627              6268   \n",
       "4        5                     13766                  925             12841   \n",
       "\n",
       "    Subscription Rate  Not Sub Rate  \n",
       "2           51.991614     48.008386  \n",
       "11          46.728972     53.271028  \n",
       "8           46.459413     53.540587  \n",
       "9           43.766938     56.233062  \n",
       "3           19.679400     80.320600  \n",
       "1           16.647792     83.352208  \n",
       "7           11.013286     88.986714  \n",
       "5           10.222805     89.777195  \n",
       "10          10.151134     89.848866  \n",
       "0           10.121169     89.878831  \n",
       "6            9.093546     90.906454  \n",
       "4            6.719454     93.280546  "
      ]
     },
     "execution_count": 86,
     "metadata": {},
     "output_type": "execute_result"
    }
   ],
   "source": [
    "month_wise=month_wise.sort_values(\"Subscription Rate\",ascending=False)\n",
    "month_wise"
   ]
  },
  {
   "cell_type": "markdown",
   "id": "8f32d63a",
   "metadata": {},
   "source": [
    "# 10. Call Duration"
   ]
  },
  {
   "cell_type": "code",
   "execution_count": 87,
   "id": "712b8747",
   "metadata": {},
   "outputs": [
    {
     "name": "stderr",
     "output_type": "stream",
     "text": [
      "C:\\Users\\abhir\\anaconda3\\lib\\site-packages\\seaborn\\_decorators.py:36: FutureWarning: Pass the following variables as keyword args: x, y. From version 0.12, the only valid positional argument will be `data`, and passing other arguments without an explicit keyword will result in an error or misinterpretation.\n",
      "  warnings.warn(\n"
     ]
    },
    {
     "data": {
      "text/plain": [
       "<AxesSubplot:xlabel='duration', ylabel='y'>"
      ]
     },
     "execution_count": 87,
     "metadata": {},
     "output_type": "execute_result"
    },
    {
     "data": {
      "image/png": "[encoded data removed]",
      "text/plain": [
       "<Figure size 432x288 with 1 Axes>"
      ]
     },
     "metadata": {},
     "output_type": "display_data"
    }
   ],
   "source": [
    "sns.boxplot(df_update['duration'],df_update['y'])"
   ]
  },
  {
   "cell_type": "code",
   "execution_count": 88,
   "id": "3dde16f9",
   "metadata": {},
   "outputs": [
    {
     "data": {
      "text/html": [
       "<div>\n",
       "<style scoped>\n",
       "    .dataframe tbody tr th:only-of-type {\n",
       "        vertical-align: middle;\n",
       "    }\n",
       "\n",
       "    .dataframe tbody tr th {\n",
       "        vertical-align: top;\n",
       "    }\n",
       "\n",
       "    .dataframe thead th {\n",
       "        text-align: right;\n",
       "    }\n",
       "</style>\n",
       "<table border=\"1\" class=\"dataframe\">\n",
       "  <thead>\n",
       "    <tr style=\"text-align: right;\">\n",
       "      <th></th>\n",
       "      <th>Duration</th>\n",
       "      <th>total</th>\n",
       "      <th>Yes</th>\n",
       "      <th>No</th>\n",
       "      <th>Yes percent</th>\n",
       "    </tr>\n",
       "  </thead>\n",
       "  <tbody>\n",
       "    <tr>\n",
       "      <th>3</th>\n",
       "      <td>1501-2000</td>\n",
       "      <td>168</td>\n",
       "      <td>108</td>\n",
       "      <td>60</td>\n",
       "      <td>64.285714</td>\n",
       "    </tr>\n",
       "    <tr>\n",
       "      <th>2</th>\n",
       "      <td>1001-1500</td>\n",
       "      <td>831</td>\n",
       "      <td>494</td>\n",
       "      <td>337</td>\n",
       "      <td>59.446450</td>\n",
       "    </tr>\n",
       "    <tr>\n",
       "      <th>4</th>\n",
       "      <td>2001+</td>\n",
       "      <td>59</td>\n",
       "      <td>30</td>\n",
       "      <td>29</td>\n",
       "      <td>50.847458</td>\n",
       "    </tr>\n",
       "    <tr>\n",
       "      <th>1</th>\n",
       "      <td>501-1000</td>\n",
       "      <td>4313</td>\n",
       "      <td>1645</td>\n",
       "      <td>2668</td>\n",
       "      <td>38.140505</td>\n",
       "    </tr>\n",
       "    <tr>\n",
       "      <th>0</th>\n",
       "      <td>Till 500</td>\n",
       "      <td>39840</td>\n",
       "      <td>3012</td>\n",
       "      <td>36828</td>\n",
       "      <td>7.560241</td>\n",
       "    </tr>\n",
       "  </tbody>\n",
       "</table>\n",
       "</div>"
      ],
      "text/plain": [
       "    Duration  total   Yes     No  Yes percent\n",
       "3  1501-2000    168   108     60    64.285714\n",
       "2  1001-1500    831   494    337    59.446450\n",
       "4      2001+     59    30     29    50.847458\n",
       "1   501-1000   4313  1645   2668    38.140505\n",
       "0   Till 500  39840  3012  36828     7.560241"
      ]
     },
     "execution_count": 88,
     "metadata": {},
     "output_type": "execute_result"
    }
   ],
   "source": [
    "total=[]\n",
    "no=[]\n",
    "yes=[]\n",
    "\n",
    "total.append(df_update[(df_update['duration']<=500)].count()['duration'])\n",
    "no.append(df_update[(df_update['duration']<=500) & (df_update['y']=='no')].count()['y'])\n",
    "yes.append(df_update[(df_update['duration']<=500) & (df_update['y']=='yes')].count()['y'])\n",
    "\n",
    "\n",
    "total.append(df_update[(df_update['duration']<=1000) & (df_update['duration']>500)].count()['duration'])\n",
    "no.append(df_update[(df_update['duration']<=1000) & (df_update['duration']>500) & (df_update['y']=='no')].count()['y'])\n",
    "yes.append(df_update[(df_update['duration']<=1000) & (df_update['duration']>500) & (df_update['y']=='yes')].count()['y'])\n",
    "\n",
    "total.append(df_update[(df_update['duration']<=1500) & (df_update['duration']>1000)].count()['duration'])\n",
    "no.append(df_update[(df_update['duration']<=1500) & (df_update['duration']>1000) & (df_update['y']=='no')].count()['y'])\n",
    "yes.append(df_update[(df_update['duration']<=1500) & (df_update['duration']>1000) & (df_update['y']=='yes')].count()['y'])\n",
    "\n",
    "total.append(df_update[(df_update['duration']<=2000) & (df_update['duration']>1500)].count()['duration'])\n",
    "no.append(df_update[(df_update['duration']<=2000) & (df_update['duration']>1500) & (df_update['y']=='no')].count()['y'])\n",
    "yes.append(df_update[(df_update['duration']<=2000) & (df_update['duration']>1500) & (df_update['y']=='yes')].count()['y'])\n",
    "\n",
    "total.append(df_update[(df_update['duration']>2000)].count()['duration'])\n",
    "no.append(df_update[(df_update['duration']>2000) & (df_update['y']=='no')].count()['y'])\n",
    "yes.append(df_update[(df_update['duration']>2000) & (df_update['y']=='yes')].count()['y'])\n",
    "\n",
    "\n",
    "duration=pd.DataFrame()\n",
    "duration['Duration']=['Till 500','501-1000','1001-1500','1501-2000','2001+']\n",
    "duration['total']=total\n",
    "duration['Yes']=yes\n",
    "duration['No']=no\n",
    "duration['Yes percent']=(duration['Yes']/duration['total'])*100\n",
    "duration.sort_values('Yes percent',ascending=False)"
   ]
  },
  {
   "cell_type": "code",
   "execution_count": 89,
   "id": "9ac89c59",
   "metadata": {},
   "outputs": [
    {
     "name": "stderr",
     "output_type": "stream",
     "text": [
      "C:\\Users\\abhir\\anaconda3\\lib\\site-packages\\seaborn\\_decorators.py:36: FutureWarning: Pass the following variables as keyword args: x, y. From version 0.12, the only valid positional argument will be `data`, and passing other arguments without an explicit keyword will result in an error or misinterpretation.\n",
      "  warnings.warn(\n"
     ]
    },
    {
     "data": {
      "text/plain": [
       "<AxesSubplot:xlabel='duration', ylabel='campaign'>"
      ]
     },
     "execution_count": 89,
     "metadata": {},
     "output_type": "execute_result"
    },
    {
     "data": {
      "image/png": "[encoded data removed]",
      "text/plain": [
       "<Figure size 1440x360 with 1 Axes>"
      ]
     },
     "metadata": {},
     "output_type": "display_data"
    }
   ],
   "source": [
    "plt.figure(figsize=(20,5))\n",
    "plt.xticks(np.arange(0,5000,150))\n",
    "sns.scatterplot(df_update['duration'],df['campaign'],hue=df_update['y'])"
   ]
  },
  {
   "cell_type": "markdown",
   "id": "b7ddefbe",
   "metadata": {},
   "source": [
    "39840 calls have call duration less than 500 seconds and we have less number of calls in this range whereas we have more number of calls in the range of 1500-2000 seconds.\n",
    "Lastly, we have 59 calls for the duration more than 3000 seconds"
   ]
  },
  {
   "cell_type": "markdown",
   "id": "0b6348ab",
   "metadata": {},
   "source": [
    "# 11. Campaign"
   ]
  },
  {
   "cell_type": "code",
   "execution_count": 90,
   "id": "3bf15e2a",
   "metadata": {},
   "outputs": [
    {
     "name": "stderr",
     "output_type": "stream",
     "text": [
      "C:\\Users\\abhir\\anaconda3\\lib\\site-packages\\seaborn\\_decorators.py:36: FutureWarning: Pass the following variable as a keyword arg: x. From version 0.12, the only valid positional argument will be `data`, and passing other arguments without an explicit keyword will result in an error or misinterpretation.\n",
      "  warnings.warn(\n"
     ]
    },
    {
     "data": {
      "text/plain": [
       "<AxesSubplot:xlabel='campaign', ylabel='count'>"
      ]
     },
     "execution_count": 90,
     "metadata": {},
     "output_type": "execute_result"
    },
    {
     "data": {
      "image/png": "[encoded data removed]",
      "text/plain": [
       "<Figure size 1800x720 with 1 Axes>"
      ]
     },
     "metadata": {},
     "output_type": "display_data"
    }
   ],
   "source": [
    "plt.figure(figsize=(25,10))\n",
    "sns.countplot(df['campaign'],hue=df['y'])"
   ]
  },
  {
   "cell_type": "code",
   "execution_count": 91,
   "id": "29d0845e",
   "metadata": {},
   "outputs": [],
   "source": [
    "df_15=df_update[(df_update['campaign']<=15) ]\n",
    "df_30=df_update[(df_update['campaign']>=16) & (df_update['campaign']<=30) ]\n",
    "df_31=df_update[(df_update['campaign']>=31) ]"
   ]
  },
  {
   "cell_type": "code",
   "execution_count": 92,
   "id": "5321ab54",
   "metadata": {},
   "outputs": [
    {
     "name": "stdout",
     "output_type": "stream",
     "text": [
      "[44681, 471, 59]\n",
      "[5276, 12, 1]\n",
      "[39405, 459, 58]\n"
     ]
    }
   ],
   "source": [
    "total_calls=[]\n",
    "yes=[]\n",
    "no=[]\n",
    "for i in[df_15,df_30,df_31]:\n",
    "  total_calls.append(i.count()['campaign'])\n",
    "  yes.append(i[i['y']=='yes'].count()['y'])\n",
    "  no.append(i[i['y']=='no'].count()['y'])\n",
    "\n",
    "print(total_calls)\n",
    "print(yes)\n",
    "print(no)"
   ]
  },
  {
   "cell_type": "code",
   "execution_count": 94,
   "id": "8512fc08",
   "metadata": {},
   "outputs": [],
   "source": [
    "campaigns=pd.DataFrame()\n",
    "campaigns['No.of call']=['Till 15','16- 30','30+ more']\n",
    "campaigns['Total no of Calls']=total_calls\n",
    "campaigns['Took Subscription']=yes\n",
    "campaigns['No Subscription']=no\n",
    "campaigns['Rate of Sub']=(campaigns['Took Subscription']/campaigns['Total no of Calls'])*100"
   ]
  },
  {
   "cell_type": "code",
   "execution_count": 95,
   "id": "25cd2bec",
   "metadata": {},
   "outputs": [
    {
     "data": {
      "text/html": [
       "<div>\n",
       "<style scoped>\n",
       "    .dataframe tbody tr th:only-of-type {\n",
       "        vertical-align: middle;\n",
       "    }\n",
       "\n",
       "    .dataframe tbody tr th {\n",
       "        vertical-align: top;\n",
       "    }\n",
       "\n",
       "    .dataframe thead th {\n",
       "        text-align: right;\n",
       "    }\n",
       "</style>\n",
       "<table border=\"1\" class=\"dataframe\">\n",
       "  <thead>\n",
       "    <tr style=\"text-align: right;\">\n",
       "      <th></th>\n",
       "      <th>No.of call</th>\n",
       "      <th>Total no of Calls</th>\n",
       "      <th>Took Subscription</th>\n",
       "      <th>No Subscription</th>\n",
       "      <th>Rate of Sub</th>\n",
       "    </tr>\n",
       "  </thead>\n",
       "  <tbody>\n",
       "    <tr>\n",
       "      <th>0</th>\n",
       "      <td>Till 15</td>\n",
       "      <td>44681</td>\n",
       "      <td>5276</td>\n",
       "      <td>39405</td>\n",
       "      <td>11.808151</td>\n",
       "    </tr>\n",
       "    <tr>\n",
       "      <th>1</th>\n",
       "      <td>16- 30</td>\n",
       "      <td>471</td>\n",
       "      <td>12</td>\n",
       "      <td>459</td>\n",
       "      <td>2.547771</td>\n",
       "    </tr>\n",
       "    <tr>\n",
       "      <th>2</th>\n",
       "      <td>30+ more</td>\n",
       "      <td>59</td>\n",
       "      <td>1</td>\n",
       "      <td>58</td>\n",
       "      <td>1.694915</td>\n",
       "    </tr>\n",
       "  </tbody>\n",
       "</table>\n",
       "</div>"
      ],
      "text/plain": [
       "  No.of call  Total no of Calls  Took Subscription  No Subscription  \\\n",
       "0    Till 15              44681               5276            39405   \n",
       "1     16- 30                471                 12              459   \n",
       "2   30+ more                 59                  1               58   \n",
       "\n",
       "   Rate of Sub  \n",
       "0    11.808151  \n",
       "1     2.547771  \n",
       "2     1.694915  "
      ]
     },
     "execution_count": 95,
     "metadata": {},
     "output_type": "execute_result"
    }
   ],
   "source": [
    "campaigns"
   ]
  },
  {
   "cell_type": "code",
   "execution_count": 96,
   "id": "616d7d2b",
   "metadata": {},
   "outputs": [
    {
     "name": "stderr",
     "output_type": "stream",
     "text": [
      "C:\\Users\\abhir\\anaconda3\\lib\\site-packages\\seaborn\\_decorators.py:36: FutureWarning: Pass the following variables as keyword args: x, y. From version 0.12, the only valid positional argument will be `data`, and passing other arguments without an explicit keyword will result in an error or misinterpretation.\n",
      "  warnings.warn(\n"
     ]
    },
    {
     "data": {
      "text/plain": [
       "<AxesSubplot:xlabel='No.of call', ylabel='Rate of Sub'>"
      ]
     },
     "execution_count": 96,
     "metadata": {},
     "output_type": "execute_result"
    },
    {
     "data": {
      "image/png": "[encoded data removed]",
      "text/plain": [
       "<Figure size 432x288 with 1 Axes>"
      ]
     },
     "metadata": {},
     "output_type": "display_data"
    }
   ],
   "source": [
    "sns.barplot(campaigns['No.of call'],campaigns['Rate of Sub'])"
   ]
  },
  {
   "cell_type": "markdown",
   "id": "4be21066",
   "metadata": {},
   "source": [
    "Call numbers between 1-15 has better subscription rate than call numbers more than 15 \n",
    "and out of 50 customers who was made 30 calls a day, only 1 customer suscribed"
   ]
  },
  {
   "cell_type": "code",
   "execution_count": 98,
   "id": "85daa19c",
   "metadata": {},
   "outputs": [
    {
     "data": {
      "text/plain": [
       "0         5\n",
       "1         5\n",
       "2         5\n",
       "3         5\n",
       "4         5\n",
       "         ..\n",
       "45206    17\n",
       "45207    17\n",
       "45208    17\n",
       "45209    17\n",
       "45210    17\n",
       "Name: day, Length: 45211, dtype: int64"
      ]
     },
     "execution_count": 98,
     "metadata": {},
     "output_type": "execute_result"
    }
   ],
   "source": [
    "df_update['day']"
   ]
  },
  {
   "cell_type": "code",
   "execution_count": 99,
   "id": "4eb49575",
   "metadata": {},
   "outputs": [
    {
     "name": "stderr",
     "output_type": "stream",
     "text": [
      "C:\\Users\\abhir\\anaconda3\\lib\\site-packages\\seaborn\\_decorators.py:36: FutureWarning: Pass the following variable as a keyword arg: x. From version 0.12, the only valid positional argument will be `data`, and passing other arguments without an explicit keyword will result in an error or misinterpretation.\n",
      "  warnings.warn(\n"
     ]
    },
    {
     "data": {
      "text/plain": [
       "<AxesSubplot:xlabel='day', ylabel='count'>"
      ]
     },
     "execution_count": 99,
     "metadata": {},
     "output_type": "execute_result"
    },
    {
     "data": {
      "image/png": "[encoded data removed]",
      "text/plain": [
       "<Figure size 1440x360 with 1 Axes>"
      ]
     },
     "metadata": {},
     "output_type": "display_data"
    }
   ],
   "source": [
    "plt.figure(figsize=(20,5))\n",
    "sns.set(style='darkgrid')\n",
    "sns.countplot(df_update['day'],hue=df_update['y'])"
   ]
  },
  {
   "cell_type": "code",
   "execution_count": 100,
   "id": "63d61af2",
   "metadata": {},
   "outputs": [],
   "source": [
    "dict1=dict(list(df_update.groupby(['day','y'])))\n",
    "list1=np.arange(1,32,1)\n",
    "no=[]\n",
    "yes=[]\n",
    "days=[]\n",
    "for i in list1:\n",
    "  days.append(i)\n",
    "  for j in ['no','yes']:\n",
    "    if(j=='no'):\n",
    "      no.append(dict1[i,j].count()['y'])\n",
    "    else:\n",
    "      yes.append(dict1[i,j].count()['y'])\n",
    "\n",
    "total_count_per_day=[]\n",
    "dict2=dict(list(df_update.groupby(['day'])))\n",
    "for i in list1:\n",
    "  total_count_per_day.append(dict2[i].count()['y'])"
   ]
  },
  {
   "cell_type": "code",
   "execution_count": 101,
   "id": "4d2dd5c3",
   "metadata": {},
   "outputs": [],
   "source": [
    "day_wise=pd.DataFrame()\n",
    "day_wise['Day']=days\n",
    "day_wise['Total ENteries per day']=total_count_per_day\n",
    "day_wise['Count of Subscribed']=yes\n",
    "day_wise['Count of Not Sub']=no\n",
    "day_wise['Subscription Rate']=(day_wise['Count of Subscribed']/day_wise['Total ENteries per day'])*100\n",
    "day_wise['Not Sub Rate']=(day_wise['Count of Not Sub']/day_wise['Total ENteries per day'])*100\n",
    "day_wise=day_wise.sort_values('Subscription Rate',ascending=False)"
   ]
  },
  {
   "cell_type": "code",
   "execution_count": 102,
   "id": "f347b686",
   "metadata": {},
   "outputs": [
    {
     "name": "stderr",
     "output_type": "stream",
     "text": [
      "C:\\Users\\abhir\\anaconda3\\lib\\site-packages\\seaborn\\_decorators.py:36: FutureWarning: Pass the following variables as keyword args: x, y. From version 0.12, the only valid positional argument will be `data`, and passing other arguments without an explicit keyword will result in an error or misinterpretation.\n",
      "  warnings.warn(\n"
     ]
    },
    {
     "data": {
      "text/plain": [
       "<AxesSubplot:xlabel='Day', ylabel='Subscription Rate'>"
      ]
     },
     "execution_count": 102,
     "metadata": {},
     "output_type": "execute_result"
    },
    {
     "data": {
      "image/png": "[encoded data removed]",
      "text/plain": [
       "<Figure size 1440x360 with 1 Axes>"
      ]
     },
     "metadata": {},
     "output_type": "display_data"
    }
   ],
   "source": [
    "plt.figure(figsize=(20,5))\n",
    "sns.pointplot(day_wise['Day'],day_wise['Subscription Rate'])"
   ]
  },
  {
   "cell_type": "code",
   "execution_count": 104,
   "id": "f8869130",
   "metadata": {},
   "outputs": [
    {
     "name": "stderr",
     "output_type": "stream",
     "text": [
      "C:\\Users\\abhir\\anaconda3\\lib\\site-packages\\seaborn\\_decorators.py:36: FutureWarning: Pass the following variables as keyword args: x, y. From version 0.12, the only valid positional argument will be `data`, and passing other arguments without an explicit keyword will result in an error or misinterpretation.\n",
      "  warnings.warn(\n"
     ]
    },
    {
     "data": {
      "text/plain": [
       "<AxesSubplot:xlabel='Day', ylabel='Total ENteries per day'>"
      ]
     },
     "execution_count": 104,
     "metadata": {},
     "output_type": "execute_result"
    },
    {
     "data": {
      "image/png": "[encoded data removed]",
      "text/plain": [
       "<Figure size 1440x360 with 1 Axes>"
      ]
     },
     "metadata": {},
     "output_type": "display_data"
    }
   ],
   "source": [
    "plt.figure(figsize=(20,5))\n",
    "sns.set(style='darkgrid')\n",
    "sns.pointplot(day_wise['Day'],day_wise['Total ENteries per day'])"
   ]
  },
  {
   "cell_type": "code",
   "execution_count": 105,
   "id": "4f7f527e",
   "metadata": {},
   "outputs": [
    {
     "name": "stderr",
     "output_type": "stream",
     "text": [
      "C:\\Users\\abhir\\anaconda3\\lib\\site-packages\\seaborn\\_decorators.py:36: FutureWarning: Pass the following variables as keyword args: x, y. From version 0.12, the only valid positional argument will be `data`, and passing other arguments without an explicit keyword will result in an error or misinterpretation.\n",
      "  warnings.warn(\n"
     ]
    },
    {
     "data": {
      "text/plain": [
       "Text(0, 0.5, 'Not subscribed percentage')"
      ]
     },
     "execution_count": 105,
     "metadata": {},
     "output_type": "execute_result"
    },
    {
     "data": {
      "image/png": "[encoded data removed]",
      "text/plain": [
       "<Figure size 1440x360 with 1 Axes>"
      ]
     },
     "metadata": {},
     "output_type": "display_data"
    }
   ],
   "source": [
    "plt.figure(figsize=(20,5))\n",
    "sns.set(style='darkgrid')\n",
    "sns.pointplot(day_wise['Day'],day_wise['Not Sub Rate'])\n",
    "plt.ylabel('Not subscribed percentage')"
   ]
  },
  {
   "cell_type": "markdown",
   "id": "94954843",
   "metadata": {},
   "source": [
    "Day 1,10,22 and 30 has highest suscription rate. Day 2 has highest contacted members. Day 1 has the lowest contacted members. Day 19 and 20 has the lowest subscription rate"
   ]
  },
  {
   "cell_type": "code",
   "execution_count": null,
   "id": "615dfb74",
   "metadata": {},
   "outputs": [],
   "source": []
  }
 ],
 "metadata": {
  "kernelspec": {
   "display_name": "Python 3",
   "language": "python",
   "name": "python3"
  },
  "language_info": {
   "codemirror_mode": {
    "name": "ipython",
    "version": 3
   },
   "file_extension": ".py",
   "mimetype": "text/x-python",
   "name": "python",
   "nbconvert_exporter": "python",
   "pygments_lexer": "ipython3",
   "version": "3.8.8"
  }
 },
 "nbformat": 4,
 "nbformat_minor": 5
}
